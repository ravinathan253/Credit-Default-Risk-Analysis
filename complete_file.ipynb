{
 "cells": [
  {
   "cell_type": "markdown",
   "id": "7a221fa0",
   "metadata": {},
   "source": [
    "# Problem Statement\n",
    "Credit Card Defaulter Prediction\n",
    "Predict which customer might default in upcoming months. We are all aware what is credit card. It is type of payment payment card in which charges are made against a line of credit instead of the account holder's cash deposits. When someone uses a credit card to make a purchase, that person's account accrues a balance that must be paid off each month.\n",
    "\n",
    "Credit card default happens when you have become severely delinquent on your credit card payments.Missing credit card payments once or twice does not count as a default. A payment default occurs when you fail to pay the Minimum Amount Due on the credit card for a few consecutive months."
   ]
  },
  {
   "cell_type": "code",
   "execution_count": 1,
   "id": "eee386d4",
   "metadata": {},
   "outputs": [],
   "source": [
    "import pandas as pd\n",
    "import numpy as np\n",
    "import matplotlib.pyplot as plt\n",
    "import seaborn as sns\n",
    "import warnings\n",
    "warnings.filterwarnings('ignore')\n",
    "\n",
    "from scipy import stats\n",
    "import statsmodels.api as sm\n",
    "\n",
    "from sklearn.model_selection import train_test_split\n",
    "from sklearn.preprocessing import StandardScaler\n",
    "from sklearn.preprocessing import FunctionTransformer\n",
    "\n",
    "from sklearn import metrics\n",
    "from sklearn.metrics  import classification_report,cohen_kappa_score,confusion_matrix,accuracy_score,roc_curve\n",
    "\n",
    "from sklearn.linear_model import LogisticRegression\n",
    "from sklearn.tree import DecisionTreeClassifier\n",
    "from sklearn.ensemble import RandomForestClassifier\n",
    "from sklearn.ensemble import AdaBoostClassifier\n",
    "from sklearn.ensemble import GradientBoostingClassifier\n",
    "from xgboost import XGBClassifier\n",
    "from sklearn.neighbors import KNeighborsClassifier\n",
    "from sklearn.naive_bayes import GaussianNB\n",
    "\n",
    "from sklearn.model_selection import GridSearchCV\n",
    "\n",
    "\n",
    "from imblearn.over_sampling import SMOTE\n",
    "\n",
    "#import RFE for feature elimination\n",
    "\n",
    "from sklearn.feature_selection import RFE\n",
    "from imblearn.over_sampling import RandomOverSampler"
   ]
  },
  {
   "cell_type": "code",
   "execution_count": 2,
   "id": "37e87aff",
   "metadata": {},
   "outputs": [],
   "source": [
    "df=pd.read_csv('Creditmasterdataset.csv',)\n",
    "pd.set_option('display.max_columns', None)"
   ]
  },
  {
   "cell_type": "code",
   "execution_count": 3,
   "id": "aad4749b",
   "metadata": {},
   "outputs": [
    {
     "data": {
      "text/html": [
       "<div>\n",
       "<style scoped>\n",
       "    .dataframe tbody tr th:only-of-type {\n",
       "        vertical-align: middle;\n",
       "    }\n",
       "\n",
       "    .dataframe tbody tr th {\n",
       "        vertical-align: top;\n",
       "    }\n",
       "\n",
       "    .dataframe thead th {\n",
       "        text-align: right;\n",
       "    }\n",
       "</style>\n",
       "<table border=\"1\" class=\"dataframe\">\n",
       "  <thead>\n",
       "    <tr style=\"text-align: right;\">\n",
       "      <th></th>\n",
       "      <th>credit_limit</th>\n",
       "      <th>gender</th>\n",
       "      <th>education</th>\n",
       "      <th>marital_status</th>\n",
       "      <th>age</th>\n",
       "      <th>timeliness_1</th>\n",
       "      <th>timeliness_2</th>\n",
       "      <th>timeliness_3</th>\n",
       "      <th>timeliness_4</th>\n",
       "      <th>timeliness_5</th>\n",
       "      <th>timeliness_6</th>\n",
       "      <th>balance_1</th>\n",
       "      <th>balance_2</th>\n",
       "      <th>balance_3</th>\n",
       "      <th>balance_4</th>\n",
       "      <th>balance_5</th>\n",
       "      <th>balance_6</th>\n",
       "      <th>payment_1</th>\n",
       "      <th>payment_2</th>\n",
       "      <th>payment_3</th>\n",
       "      <th>payment_4</th>\n",
       "      <th>payment_5</th>\n",
       "      <th>payment_6</th>\n",
       "      <th>avg_balance</th>\n",
       "      <th>avg_payment</th>\n",
       "      <th>default</th>\n",
       "    </tr>\n",
       "  </thead>\n",
       "  <tbody>\n",
       "    <tr>\n",
       "      <th>0</th>\n",
       "      <td>20000</td>\n",
       "      <td>female</td>\n",
       "      <td>uni</td>\n",
       "      <td>married</td>\n",
       "      <td>24</td>\n",
       "      <td>m+2</td>\n",
       "      <td>m+2</td>\n",
       "      <td>m-1</td>\n",
       "      <td>m-1</td>\n",
       "      <td>m-2</td>\n",
       "      <td>m-2</td>\n",
       "      <td>3913</td>\n",
       "      <td>3102</td>\n",
       "      <td>689</td>\n",
       "      <td>0</td>\n",
       "      <td>0</td>\n",
       "      <td>0</td>\n",
       "      <td>0</td>\n",
       "      <td>689</td>\n",
       "      <td>0</td>\n",
       "      <td>0</td>\n",
       "      <td>0</td>\n",
       "      <td>0</td>\n",
       "      <td>1284.000000</td>\n",
       "      <td>114.833333</td>\n",
       "      <td>yes</td>\n",
       "    </tr>\n",
       "    <tr>\n",
       "      <th>1</th>\n",
       "      <td>120000</td>\n",
       "      <td>female</td>\n",
       "      <td>uni</td>\n",
       "      <td>single</td>\n",
       "      <td>26</td>\n",
       "      <td>m-1</td>\n",
       "      <td>m+2</td>\n",
       "      <td>m+0</td>\n",
       "      <td>m+0</td>\n",
       "      <td>m+0</td>\n",
       "      <td>m+2</td>\n",
       "      <td>2682</td>\n",
       "      <td>1725</td>\n",
       "      <td>2682</td>\n",
       "      <td>3272</td>\n",
       "      <td>3455</td>\n",
       "      <td>3261</td>\n",
       "      <td>0</td>\n",
       "      <td>1000</td>\n",
       "      <td>1000</td>\n",
       "      <td>1000</td>\n",
       "      <td>0</td>\n",
       "      <td>2000</td>\n",
       "      <td>2846.166667</td>\n",
       "      <td>833.333333</td>\n",
       "      <td>yes</td>\n",
       "    </tr>\n",
       "    <tr>\n",
       "      <th>2</th>\n",
       "      <td>90000</td>\n",
       "      <td>female</td>\n",
       "      <td>uni</td>\n",
       "      <td>single</td>\n",
       "      <td>34</td>\n",
       "      <td>m+0</td>\n",
       "      <td>m+0</td>\n",
       "      <td>m+0</td>\n",
       "      <td>m+0</td>\n",
       "      <td>m+0</td>\n",
       "      <td>m+0</td>\n",
       "      <td>29239</td>\n",
       "      <td>14027</td>\n",
       "      <td>13559</td>\n",
       "      <td>14331</td>\n",
       "      <td>14948</td>\n",
       "      <td>15549</td>\n",
       "      <td>1518</td>\n",
       "      <td>1500</td>\n",
       "      <td>1000</td>\n",
       "      <td>1000</td>\n",
       "      <td>1000</td>\n",
       "      <td>5000</td>\n",
       "      <td>16942.166667</td>\n",
       "      <td>1836.333333</td>\n",
       "      <td>no</td>\n",
       "    </tr>\n",
       "    <tr>\n",
       "      <th>3</th>\n",
       "      <td>50000</td>\n",
       "      <td>female</td>\n",
       "      <td>uni</td>\n",
       "      <td>married</td>\n",
       "      <td>37</td>\n",
       "      <td>m+0</td>\n",
       "      <td>m+0</td>\n",
       "      <td>m+0</td>\n",
       "      <td>m+0</td>\n",
       "      <td>m+0</td>\n",
       "      <td>m+0</td>\n",
       "      <td>46990</td>\n",
       "      <td>48233</td>\n",
       "      <td>49291</td>\n",
       "      <td>28314</td>\n",
       "      <td>28959</td>\n",
       "      <td>29547</td>\n",
       "      <td>2000</td>\n",
       "      <td>2019</td>\n",
       "      <td>1200</td>\n",
       "      <td>1100</td>\n",
       "      <td>1069</td>\n",
       "      <td>1000</td>\n",
       "      <td>38555.666667</td>\n",
       "      <td>1398.000000</td>\n",
       "      <td>no</td>\n",
       "    </tr>\n",
       "    <tr>\n",
       "      <th>4</th>\n",
       "      <td>50000</td>\n",
       "      <td>male</td>\n",
       "      <td>uni</td>\n",
       "      <td>married</td>\n",
       "      <td>57</td>\n",
       "      <td>m-1</td>\n",
       "      <td>m+0</td>\n",
       "      <td>m-1</td>\n",
       "      <td>m+0</td>\n",
       "      <td>m+0</td>\n",
       "      <td>m+0</td>\n",
       "      <td>8617</td>\n",
       "      <td>5670</td>\n",
       "      <td>35835</td>\n",
       "      <td>20940</td>\n",
       "      <td>19146</td>\n",
       "      <td>19131</td>\n",
       "      <td>2000</td>\n",
       "      <td>36681</td>\n",
       "      <td>10000</td>\n",
       "      <td>9000</td>\n",
       "      <td>689</td>\n",
       "      <td>679</td>\n",
       "      <td>18223.166667</td>\n",
       "      <td>9841.500000</td>\n",
       "      <td>no</td>\n",
       "    </tr>\n",
       "  </tbody>\n",
       "</table>\n",
       "</div>"
      ],
      "text/plain": [
       "   credit_limit  gender education marital_status  age timeliness_1  \\\n",
       "0         20000  female       uni        married   24          m+2   \n",
       "1        120000  female       uni         single   26          m-1   \n",
       "2         90000  female       uni         single   34          m+0   \n",
       "3         50000  female       uni        married   37          m+0   \n",
       "4         50000    male       uni        married   57          m-1   \n",
       "\n",
       "  timeliness_2 timeliness_3 timeliness_4 timeliness_5 timeliness_6  balance_1  \\\n",
       "0          m+2          m-1          m-1          m-2          m-2       3913   \n",
       "1          m+2          m+0          m+0          m+0          m+2       2682   \n",
       "2          m+0          m+0          m+0          m+0          m+0      29239   \n",
       "3          m+0          m+0          m+0          m+0          m+0      46990   \n",
       "4          m+0          m-1          m+0          m+0          m+0       8617   \n",
       "\n",
       "   balance_2  balance_3  balance_4  balance_5  balance_6  payment_1  \\\n",
       "0       3102        689          0          0          0          0   \n",
       "1       1725       2682       3272       3455       3261          0   \n",
       "2      14027      13559      14331      14948      15549       1518   \n",
       "3      48233      49291      28314      28959      29547       2000   \n",
       "4       5670      35835      20940      19146      19131       2000   \n",
       "\n",
       "   payment_2  payment_3  payment_4  payment_5  payment_6   avg_balance  \\\n",
       "0        689          0          0          0          0   1284.000000   \n",
       "1       1000       1000       1000          0       2000   2846.166667   \n",
       "2       1500       1000       1000       1000       5000  16942.166667   \n",
       "3       2019       1200       1100       1069       1000  38555.666667   \n",
       "4      36681      10000       9000        689        679  18223.166667   \n",
       "\n",
       "   avg_payment default  \n",
       "0   114.833333     yes  \n",
       "1   833.333333     yes  \n",
       "2  1836.333333      no  \n",
       "3  1398.000000      no  \n",
       "4  9841.500000      no  "
      ]
     },
     "execution_count": 3,
     "metadata": {},
     "output_type": "execute_result"
    }
   ],
   "source": [
    "df.head()"
   ]
  },
  {
   "cell_type": "code",
   "execution_count": 4,
   "id": "882cb6a6",
   "metadata": {},
   "outputs": [
    {
     "name": "stdout",
     "output_type": "stream",
     "text": [
      "No of Rows 30000\n",
      "No of Columns 26\n"
     ]
    }
   ],
   "source": [
    "print('No of Rows',df.shape[0])\n",
    "print('No of Columns',df.shape[1])"
   ]
  },
  {
   "cell_type": "code",
   "execution_count": 5,
   "id": "1a830b05",
   "metadata": {},
   "outputs": [
    {
     "name": "stdout",
     "output_type": "stream",
     "text": [
      "<class 'pandas.core.frame.DataFrame'>\n",
      "RangeIndex: 30000 entries, 0 to 29999\n",
      "Data columns (total 26 columns):\n",
      " #   Column          Non-Null Count  Dtype  \n",
      "---  ------          --------------  -----  \n",
      " 0   credit_limit    30000 non-null  int64  \n",
      " 1   gender          30000 non-null  object \n",
      " 2   education       30000 non-null  object \n",
      " 3   marital_status  30000 non-null  object \n",
      " 4   age             30000 non-null  int64  \n",
      " 5   timeliness_1    30000 non-null  object \n",
      " 6   timeliness_2    30000 non-null  object \n",
      " 7   timeliness_3    30000 non-null  object \n",
      " 8   timeliness_4    30000 non-null  object \n",
      " 9   timeliness_5    30000 non-null  object \n",
      " 10  timeliness_6    30000 non-null  object \n",
      " 11  balance_1       30000 non-null  int64  \n",
      " 12  balance_2       30000 non-null  int64  \n",
      " 13  balance_3       30000 non-null  int64  \n",
      " 14  balance_4       30000 non-null  int64  \n",
      " 15  balance_5       30000 non-null  int64  \n",
      " 16  balance_6       30000 non-null  int64  \n",
      " 17  payment_1       30000 non-null  int64  \n",
      " 18  payment_2       30000 non-null  int64  \n",
      " 19  payment_3       30000 non-null  int64  \n",
      " 20  payment_4       30000 non-null  int64  \n",
      " 21  payment_5       30000 non-null  int64  \n",
      " 22  payment_6       30000 non-null  int64  \n",
      " 23  avg_balance     30000 non-null  float64\n",
      " 24  avg_payment     30000 non-null  float64\n",
      " 25  default         30000 non-null  object \n",
      "dtypes: float64(2), int64(14), object(10)\n",
      "memory usage: 6.0+ MB\n"
     ]
    }
   ],
   "source": [
    "df.info()"
   ]
  },
  {
   "cell_type": "code",
   "execution_count": 6,
   "id": "2e699faf",
   "metadata": {},
   "outputs": [
    {
     "data": {
      "text/plain": [
       "credit_limit      0.0\n",
       "gender            0.0\n",
       "education         0.0\n",
       "marital_status    0.0\n",
       "age               0.0\n",
       "timeliness_1      0.0\n",
       "timeliness_2      0.0\n",
       "timeliness_3      0.0\n",
       "timeliness_4      0.0\n",
       "timeliness_5      0.0\n",
       "timeliness_6      0.0\n",
       "balance_1         0.0\n",
       "balance_2         0.0\n",
       "balance_3         0.0\n",
       "balance_4         0.0\n",
       "balance_5         0.0\n",
       "balance_6         0.0\n",
       "payment_1         0.0\n",
       "payment_2         0.0\n",
       "payment_3         0.0\n",
       "payment_4         0.0\n",
       "payment_5         0.0\n",
       "payment_6         0.0\n",
       "avg_balance       0.0\n",
       "avg_payment       0.0\n",
       "default           0.0\n",
       "dtype: float64"
      ]
     },
     "execution_count": 6,
     "metadata": {},
     "output_type": "execute_result"
    }
   ],
   "source": [
    "df.isnull().sum() / len(df) * 100"
   ]
  },
  {
   "cell_type": "code",
   "execution_count": 7,
   "id": "e55162c8",
   "metadata": {},
   "outputs": [
    {
     "data": {
      "text/html": [
       "<div>\n",
       "<style scoped>\n",
       "    .dataframe tbody tr th:only-of-type {\n",
       "        vertical-align: middle;\n",
       "    }\n",
       "\n",
       "    .dataframe tbody tr th {\n",
       "        vertical-align: top;\n",
       "    }\n",
       "\n",
       "    .dataframe thead th {\n",
       "        text-align: right;\n",
       "    }\n",
       "</style>\n",
       "<table border=\"1\" class=\"dataframe\">\n",
       "  <thead>\n",
       "    <tr style=\"text-align: right;\">\n",
       "      <th></th>\n",
       "      <th>count</th>\n",
       "      <th>mean</th>\n",
       "      <th>std</th>\n",
       "      <th>min</th>\n",
       "      <th>25%</th>\n",
       "      <th>50%</th>\n",
       "      <th>75%</th>\n",
       "      <th>max</th>\n",
       "    </tr>\n",
       "  </thead>\n",
       "  <tbody>\n",
       "    <tr>\n",
       "      <th>credit_limit</th>\n",
       "      <td>30000.0</td>\n",
       "      <td>167484.322667</td>\n",
       "      <td>129747.661567</td>\n",
       "      <td>10000.000000</td>\n",
       "      <td>50000.000000</td>\n",
       "      <td>140000.000000</td>\n",
       "      <td>240000.000000</td>\n",
       "      <td>1.000000e+06</td>\n",
       "    </tr>\n",
       "    <tr>\n",
       "      <th>age</th>\n",
       "      <td>30000.0</td>\n",
       "      <td>35.485500</td>\n",
       "      <td>9.217904</td>\n",
       "      <td>21.000000</td>\n",
       "      <td>28.000000</td>\n",
       "      <td>34.000000</td>\n",
       "      <td>41.000000</td>\n",
       "      <td>7.900000e+01</td>\n",
       "    </tr>\n",
       "    <tr>\n",
       "      <th>balance_1</th>\n",
       "      <td>30000.0</td>\n",
       "      <td>51223.330900</td>\n",
       "      <td>73635.860576</td>\n",
       "      <td>-165580.000000</td>\n",
       "      <td>3558.750000</td>\n",
       "      <td>22381.500000</td>\n",
       "      <td>67091.000000</td>\n",
       "      <td>9.645110e+05</td>\n",
       "    </tr>\n",
       "    <tr>\n",
       "      <th>balance_2</th>\n",
       "      <td>30000.0</td>\n",
       "      <td>49179.075167</td>\n",
       "      <td>71173.768783</td>\n",
       "      <td>-69777.000000</td>\n",
       "      <td>2984.750000</td>\n",
       "      <td>21200.000000</td>\n",
       "      <td>64006.250000</td>\n",
       "      <td>9.839310e+05</td>\n",
       "    </tr>\n",
       "    <tr>\n",
       "      <th>balance_3</th>\n",
       "      <td>30000.0</td>\n",
       "      <td>47013.154800</td>\n",
       "      <td>69349.387427</td>\n",
       "      <td>-157264.000000</td>\n",
       "      <td>2666.250000</td>\n",
       "      <td>20088.500000</td>\n",
       "      <td>60164.750000</td>\n",
       "      <td>1.664089e+06</td>\n",
       "    </tr>\n",
       "    <tr>\n",
       "      <th>balance_4</th>\n",
       "      <td>30000.0</td>\n",
       "      <td>43262.948967</td>\n",
       "      <td>64332.856134</td>\n",
       "      <td>-170000.000000</td>\n",
       "      <td>2326.750000</td>\n",
       "      <td>19052.000000</td>\n",
       "      <td>54506.000000</td>\n",
       "      <td>8.915860e+05</td>\n",
       "    </tr>\n",
       "    <tr>\n",
       "      <th>balance_5</th>\n",
       "      <td>30000.0</td>\n",
       "      <td>40311.400967</td>\n",
       "      <td>60797.155770</td>\n",
       "      <td>-81334.000000</td>\n",
       "      <td>1763.000000</td>\n",
       "      <td>18104.500000</td>\n",
       "      <td>50190.500000</td>\n",
       "      <td>9.271710e+05</td>\n",
       "    </tr>\n",
       "    <tr>\n",
       "      <th>balance_6</th>\n",
       "      <td>30000.0</td>\n",
       "      <td>38871.760400</td>\n",
       "      <td>59554.107537</td>\n",
       "      <td>-339603.000000</td>\n",
       "      <td>1256.000000</td>\n",
       "      <td>17071.000000</td>\n",
       "      <td>49198.250000</td>\n",
       "      <td>9.616640e+05</td>\n",
       "    </tr>\n",
       "    <tr>\n",
       "      <th>payment_1</th>\n",
       "      <td>30000.0</td>\n",
       "      <td>5663.580500</td>\n",
       "      <td>16563.280354</td>\n",
       "      <td>0.000000</td>\n",
       "      <td>1000.000000</td>\n",
       "      <td>2100.000000</td>\n",
       "      <td>5006.000000</td>\n",
       "      <td>8.735520e+05</td>\n",
       "    </tr>\n",
       "    <tr>\n",
       "      <th>payment_2</th>\n",
       "      <td>30000.0</td>\n",
       "      <td>5921.163500</td>\n",
       "      <td>23040.870402</td>\n",
       "      <td>0.000000</td>\n",
       "      <td>833.000000</td>\n",
       "      <td>2009.000000</td>\n",
       "      <td>5000.000000</td>\n",
       "      <td>1.684259e+06</td>\n",
       "    </tr>\n",
       "    <tr>\n",
       "      <th>payment_3</th>\n",
       "      <td>30000.0</td>\n",
       "      <td>5225.681500</td>\n",
       "      <td>17606.961470</td>\n",
       "      <td>0.000000</td>\n",
       "      <td>390.000000</td>\n",
       "      <td>1800.000000</td>\n",
       "      <td>4505.000000</td>\n",
       "      <td>8.960400e+05</td>\n",
       "    </tr>\n",
       "    <tr>\n",
       "      <th>payment_4</th>\n",
       "      <td>30000.0</td>\n",
       "      <td>4826.076867</td>\n",
       "      <td>15666.159744</td>\n",
       "      <td>0.000000</td>\n",
       "      <td>296.000000</td>\n",
       "      <td>1500.000000</td>\n",
       "      <td>4013.250000</td>\n",
       "      <td>6.210000e+05</td>\n",
       "    </tr>\n",
       "    <tr>\n",
       "      <th>payment_5</th>\n",
       "      <td>30000.0</td>\n",
       "      <td>4799.387633</td>\n",
       "      <td>15278.305679</td>\n",
       "      <td>0.000000</td>\n",
       "      <td>252.500000</td>\n",
       "      <td>1500.000000</td>\n",
       "      <td>4031.500000</td>\n",
       "      <td>4.265290e+05</td>\n",
       "    </tr>\n",
       "    <tr>\n",
       "      <th>payment_6</th>\n",
       "      <td>30000.0</td>\n",
       "      <td>5215.502567</td>\n",
       "      <td>17777.465775</td>\n",
       "      <td>0.000000</td>\n",
       "      <td>117.750000</td>\n",
       "      <td>1500.000000</td>\n",
       "      <td>4000.000000</td>\n",
       "      <td>5.286660e+05</td>\n",
       "    </tr>\n",
       "    <tr>\n",
       "      <th>avg_balance</th>\n",
       "      <td>30000.0</td>\n",
       "      <td>44976.945200</td>\n",
       "      <td>63260.721860</td>\n",
       "      <td>-56043.166667</td>\n",
       "      <td>4781.333333</td>\n",
       "      <td>21051.833333</td>\n",
       "      <td>57104.416667</td>\n",
       "      <td>8.773138e+05</td>\n",
       "    </tr>\n",
       "    <tr>\n",
       "      <th>avg_payment</th>\n",
       "      <td>30000.0</td>\n",
       "      <td>5275.232094</td>\n",
       "      <td>10137.946323</td>\n",
       "      <td>0.000000</td>\n",
       "      <td>1113.291667</td>\n",
       "      <td>2397.166667</td>\n",
       "      <td>5583.916667</td>\n",
       "      <td>6.273443e+05</td>\n",
       "    </tr>\n",
       "  </tbody>\n",
       "</table>\n",
       "</div>"
      ],
      "text/plain": [
       "                count           mean            std            min  \\\n",
       "credit_limit  30000.0  167484.322667  129747.661567   10000.000000   \n",
       "age           30000.0      35.485500       9.217904      21.000000   \n",
       "balance_1     30000.0   51223.330900   73635.860576 -165580.000000   \n",
       "balance_2     30000.0   49179.075167   71173.768783  -69777.000000   \n",
       "balance_3     30000.0   47013.154800   69349.387427 -157264.000000   \n",
       "balance_4     30000.0   43262.948967   64332.856134 -170000.000000   \n",
       "balance_5     30000.0   40311.400967   60797.155770  -81334.000000   \n",
       "balance_6     30000.0   38871.760400   59554.107537 -339603.000000   \n",
       "payment_1     30000.0    5663.580500   16563.280354       0.000000   \n",
       "payment_2     30000.0    5921.163500   23040.870402       0.000000   \n",
       "payment_3     30000.0    5225.681500   17606.961470       0.000000   \n",
       "payment_4     30000.0    4826.076867   15666.159744       0.000000   \n",
       "payment_5     30000.0    4799.387633   15278.305679       0.000000   \n",
       "payment_6     30000.0    5215.502567   17777.465775       0.000000   \n",
       "avg_balance   30000.0   44976.945200   63260.721860  -56043.166667   \n",
       "avg_payment   30000.0    5275.232094   10137.946323       0.000000   \n",
       "\n",
       "                       25%            50%            75%           max  \n",
       "credit_limit  50000.000000  140000.000000  240000.000000  1.000000e+06  \n",
       "age              28.000000      34.000000      41.000000  7.900000e+01  \n",
       "balance_1      3558.750000   22381.500000   67091.000000  9.645110e+05  \n",
       "balance_2      2984.750000   21200.000000   64006.250000  9.839310e+05  \n",
       "balance_3      2666.250000   20088.500000   60164.750000  1.664089e+06  \n",
       "balance_4      2326.750000   19052.000000   54506.000000  8.915860e+05  \n",
       "balance_5      1763.000000   18104.500000   50190.500000  9.271710e+05  \n",
       "balance_6      1256.000000   17071.000000   49198.250000  9.616640e+05  \n",
       "payment_1      1000.000000    2100.000000    5006.000000  8.735520e+05  \n",
       "payment_2       833.000000    2009.000000    5000.000000  1.684259e+06  \n",
       "payment_3       390.000000    1800.000000    4505.000000  8.960400e+05  \n",
       "payment_4       296.000000    1500.000000    4013.250000  6.210000e+05  \n",
       "payment_5       252.500000    1500.000000    4031.500000  4.265290e+05  \n",
       "payment_6       117.750000    1500.000000    4000.000000  5.286660e+05  \n",
       "avg_balance    4781.333333   21051.833333   57104.416667  8.773138e+05  \n",
       "avg_payment    1113.291667    2397.166667    5583.916667  6.273443e+05  "
      ]
     },
     "execution_count": 7,
     "metadata": {},
     "output_type": "execute_result"
    }
   ],
   "source": [
    "df.describe().T"
   ]
  },
  {
   "cell_type": "markdown",
   "id": "124c41b7",
   "metadata": {},
   "source": [
    "The **average value for the amount of credit card limit is 167484** and **maximum credit_limit 1000000.**\n",
    "loan has given to those who are working the age limit is 21 to 79 and the **average age is 35.5 years**"
   ]
  },
  {
   "cell_type": "code",
   "execution_count": 8,
   "id": "4df18231",
   "metadata": {},
   "outputs": [
    {
     "name": "stdout",
     "output_type": "stream",
     "text": [
      "gender 2\n",
      "female    60.373333\n",
      "male      39.626667\n",
      "Name: gender, dtype: float64\n",
      "====================\n",
      "education 7\n",
      "uni       46.766667\n",
      "grad      35.283333\n",
      "hs        16.390000\n",
      "other2     0.933333\n",
      "other1     0.410000\n",
      "other3     0.170000\n",
      "0          0.046667\n",
      "Name: education, dtype: float64\n",
      "====================\n",
      "marital_status 4\n",
      "single     53.213333\n",
      "married    45.530000\n",
      "other       1.076667\n",
      "na          0.180000\n",
      "Name: marital_status, dtype: float64\n",
      "====================\n",
      "timeliness_1 11\n",
      "m+0    49.123333\n",
      "m-1    18.953333\n",
      "m+1    12.293333\n",
      "m-2     9.196667\n",
      "m+2     8.890000\n",
      "m+3     1.073333\n",
      "m+4     0.253333\n",
      "m+5     0.086667\n",
      "m+8     0.063333\n",
      "m+6     0.036667\n",
      "m+7     0.030000\n",
      "Name: timeliness_1, dtype: float64\n",
      "====================\n",
      "timeliness_2 11\n",
      "m+0    52.433333\n",
      "m-1    20.166667\n",
      "m+2    13.090000\n",
      "m-2    12.606667\n",
      "m+3     1.086667\n",
      "m+4     0.330000\n",
      "m+1     0.093333\n",
      "m+5     0.083333\n",
      "m+7     0.066667\n",
      "m+6     0.040000\n",
      "m+8     0.003333\n",
      "Name: timeliness_2, dtype: float64\n",
      "====================\n",
      "timeliness_3 11\n",
      "m+0    52.546667\n",
      "m-1    19.793333\n",
      "m-2    13.616667\n",
      "m+2    12.730000\n",
      "m+3     0.800000\n",
      "m+4     0.253333\n",
      "m+7     0.090000\n",
      "m+6     0.076667\n",
      "m+5     0.070000\n",
      "m+1     0.013333\n",
      "m+8     0.010000\n",
      "Name: timeliness_3, dtype: float64\n",
      "====================\n",
      "timeliness_4 11\n",
      "m+0    54.850000\n",
      "m-1    18.956667\n",
      "m-2    14.493333\n",
      "m+2    10.530000\n",
      "m+3     0.600000\n",
      "m+4     0.230000\n",
      "m+7     0.193333\n",
      "m+5     0.116667\n",
      "m+6     0.016667\n",
      "m+1     0.006667\n",
      "m+8     0.006667\n",
      "Name: timeliness_4, dtype: float64\n",
      "====================\n",
      "timeliness_5 10\n",
      "m+0    56.490000\n",
      "m-1    18.463333\n",
      "m-2    15.153333\n",
      "m+2     8.753333\n",
      "m+3     0.593333\n",
      "m+4     0.280000\n",
      "m+7     0.193333\n",
      "m+5     0.056667\n",
      "m+6     0.013333\n",
      "m+8     0.003333\n",
      "Name: timeliness_5, dtype: float64\n",
      "====================\n",
      "timeliness_6 10\n",
      "m+0    54.286667\n",
      "m-1    19.133333\n",
      "m-2    16.316667\n",
      "m+2     9.220000\n",
      "m+3     0.613333\n",
      "m+4     0.163333\n",
      "m+7     0.153333\n",
      "m+6     0.063333\n",
      "m+5     0.043333\n",
      "m+8     0.006667\n",
      "Name: timeliness_6, dtype: float64\n",
      "====================\n",
      "default 2\n",
      "no     77.88\n",
      "yes    22.12\n",
      "Name: default, dtype: float64\n",
      "====================\n"
     ]
    }
   ],
   "source": [
    "for i in df.select_dtypes('object').columns:\n",
    "    print(i,df[i].nunique())\n",
    "    print(df[i].value_counts(normalize=True)*100)\n",
    "    print('=='*10)"
   ]
  },
  {
   "cell_type": "code",
   "execution_count": 9,
   "id": "12810c2a",
   "metadata": {},
   "outputs": [],
   "source": [
    "df1=df.copy()"
   ]
  },
  {
   "cell_type": "markdown",
   "id": "cd59cb1d",
   "metadata": {},
   "source": [
    "## missing values present in marital_status so treating them"
   ]
  },
  {
   "cell_type": "code",
   "execution_count": 10,
   "id": "bd20f613",
   "metadata": {},
   "outputs": [
    {
     "data": {
      "text/plain": [
       "single     15964\n",
       "married    13659\n",
       "other        323\n",
       "na            54\n",
       "Name: marital_status, dtype: int64"
      ]
     },
     "metadata": {},
     "output_type": "display_data"
    }
   ],
   "source": [
    "display(df1['marital_status'].value_counts())"
   ]
  },
  {
   "cell_type": "code",
   "execution_count": 11,
   "id": "b83d3e12",
   "metadata": {},
   "outputs": [],
   "source": [
    "df1['marital_status']=df['marital_status'].replace('na',np.nan)"
   ]
  },
  {
   "cell_type": "code",
   "execution_count": 12,
   "id": "e4c33d6e",
   "metadata": {},
   "outputs": [],
   "source": [
    "df1['marital_status'].fillna(df1['marital_status'].mode()[0],inplace=True)"
   ]
  },
  {
   "cell_type": "markdown",
   "id": "e81e4039",
   "metadata": {},
   "source": [
    " Here impute null value to 'single' it has high frequency"
   ]
  },
  {
   "cell_type": "code",
   "execution_count": 13,
   "id": "444ddeb8",
   "metadata": {},
   "outputs": [],
   "source": [
    "df1['education'].replace(to_replace=['other2','other1','other3','0'],value='others',inplace=True)"
   ]
  },
  {
   "cell_type": "code",
   "execution_count": 14,
   "id": "9c01c3da",
   "metadata": {},
   "outputs": [
    {
     "data": {
      "text/html": [
       "<div>\n",
       "<style scoped>\n",
       "    .dataframe tbody tr th:only-of-type {\n",
       "        vertical-align: middle;\n",
       "    }\n",
       "\n",
       "    .dataframe tbody tr th {\n",
       "        vertical-align: top;\n",
       "    }\n",
       "\n",
       "    .dataframe thead th {\n",
       "        text-align: right;\n",
       "    }\n",
       "</style>\n",
       "<table border=\"1\" class=\"dataframe\">\n",
       "  <thead>\n",
       "    <tr style=\"text-align: right;\">\n",
       "      <th></th>\n",
       "      <th>credit_limit</th>\n",
       "      <th>gender</th>\n",
       "      <th>education</th>\n",
       "      <th>marital_status</th>\n",
       "      <th>age</th>\n",
       "      <th>timeliness_1</th>\n",
       "      <th>timeliness_2</th>\n",
       "      <th>timeliness_3</th>\n",
       "      <th>timeliness_4</th>\n",
       "      <th>timeliness_5</th>\n",
       "      <th>timeliness_6</th>\n",
       "      <th>balance_1</th>\n",
       "      <th>balance_2</th>\n",
       "      <th>balance_3</th>\n",
       "      <th>balance_4</th>\n",
       "      <th>balance_5</th>\n",
       "      <th>balance_6</th>\n",
       "      <th>payment_1</th>\n",
       "      <th>payment_2</th>\n",
       "      <th>payment_3</th>\n",
       "      <th>payment_4</th>\n",
       "      <th>payment_5</th>\n",
       "      <th>payment_6</th>\n",
       "      <th>avg_balance</th>\n",
       "      <th>avg_payment</th>\n",
       "      <th>default</th>\n",
       "    </tr>\n",
       "  </thead>\n",
       "  <tbody>\n",
       "    <tr>\n",
       "      <th>0</th>\n",
       "      <td>20000</td>\n",
       "      <td>female</td>\n",
       "      <td>uni</td>\n",
       "      <td>married</td>\n",
       "      <td>24</td>\n",
       "      <td>m+2</td>\n",
       "      <td>m+2</td>\n",
       "      <td>m-1</td>\n",
       "      <td>m-1</td>\n",
       "      <td>m-2</td>\n",
       "      <td>m-2</td>\n",
       "      <td>3913</td>\n",
       "      <td>3102</td>\n",
       "      <td>689</td>\n",
       "      <td>0</td>\n",
       "      <td>0</td>\n",
       "      <td>0</td>\n",
       "      <td>0</td>\n",
       "      <td>689</td>\n",
       "      <td>0</td>\n",
       "      <td>0</td>\n",
       "      <td>0</td>\n",
       "      <td>0</td>\n",
       "      <td>1284.000000</td>\n",
       "      <td>114.833333</td>\n",
       "      <td>yes</td>\n",
       "    </tr>\n",
       "    <tr>\n",
       "      <th>1</th>\n",
       "      <td>120000</td>\n",
       "      <td>female</td>\n",
       "      <td>uni</td>\n",
       "      <td>single</td>\n",
       "      <td>26</td>\n",
       "      <td>m-1</td>\n",
       "      <td>m+2</td>\n",
       "      <td>m+0</td>\n",
       "      <td>m+0</td>\n",
       "      <td>m+0</td>\n",
       "      <td>m+2</td>\n",
       "      <td>2682</td>\n",
       "      <td>1725</td>\n",
       "      <td>2682</td>\n",
       "      <td>3272</td>\n",
       "      <td>3455</td>\n",
       "      <td>3261</td>\n",
       "      <td>0</td>\n",
       "      <td>1000</td>\n",
       "      <td>1000</td>\n",
       "      <td>1000</td>\n",
       "      <td>0</td>\n",
       "      <td>2000</td>\n",
       "      <td>2846.166667</td>\n",
       "      <td>833.333333</td>\n",
       "      <td>yes</td>\n",
       "    </tr>\n",
       "    <tr>\n",
       "      <th>2</th>\n",
       "      <td>90000</td>\n",
       "      <td>female</td>\n",
       "      <td>uni</td>\n",
       "      <td>single</td>\n",
       "      <td>34</td>\n",
       "      <td>m+0</td>\n",
       "      <td>m+0</td>\n",
       "      <td>m+0</td>\n",
       "      <td>m+0</td>\n",
       "      <td>m+0</td>\n",
       "      <td>m+0</td>\n",
       "      <td>29239</td>\n",
       "      <td>14027</td>\n",
       "      <td>13559</td>\n",
       "      <td>14331</td>\n",
       "      <td>14948</td>\n",
       "      <td>15549</td>\n",
       "      <td>1518</td>\n",
       "      <td>1500</td>\n",
       "      <td>1000</td>\n",
       "      <td>1000</td>\n",
       "      <td>1000</td>\n",
       "      <td>5000</td>\n",
       "      <td>16942.166667</td>\n",
       "      <td>1836.333333</td>\n",
       "      <td>no</td>\n",
       "    </tr>\n",
       "    <tr>\n",
       "      <th>3</th>\n",
       "      <td>50000</td>\n",
       "      <td>female</td>\n",
       "      <td>uni</td>\n",
       "      <td>married</td>\n",
       "      <td>37</td>\n",
       "      <td>m+0</td>\n",
       "      <td>m+0</td>\n",
       "      <td>m+0</td>\n",
       "      <td>m+0</td>\n",
       "      <td>m+0</td>\n",
       "      <td>m+0</td>\n",
       "      <td>46990</td>\n",
       "      <td>48233</td>\n",
       "      <td>49291</td>\n",
       "      <td>28314</td>\n",
       "      <td>28959</td>\n",
       "      <td>29547</td>\n",
       "      <td>2000</td>\n",
       "      <td>2019</td>\n",
       "      <td>1200</td>\n",
       "      <td>1100</td>\n",
       "      <td>1069</td>\n",
       "      <td>1000</td>\n",
       "      <td>38555.666667</td>\n",
       "      <td>1398.000000</td>\n",
       "      <td>no</td>\n",
       "    </tr>\n",
       "    <tr>\n",
       "      <th>4</th>\n",
       "      <td>50000</td>\n",
       "      <td>male</td>\n",
       "      <td>uni</td>\n",
       "      <td>married</td>\n",
       "      <td>57</td>\n",
       "      <td>m-1</td>\n",
       "      <td>m+0</td>\n",
       "      <td>m-1</td>\n",
       "      <td>m+0</td>\n",
       "      <td>m+0</td>\n",
       "      <td>m+0</td>\n",
       "      <td>8617</td>\n",
       "      <td>5670</td>\n",
       "      <td>35835</td>\n",
       "      <td>20940</td>\n",
       "      <td>19146</td>\n",
       "      <td>19131</td>\n",
       "      <td>2000</td>\n",
       "      <td>36681</td>\n",
       "      <td>10000</td>\n",
       "      <td>9000</td>\n",
       "      <td>689</td>\n",
       "      <td>679</td>\n",
       "      <td>18223.166667</td>\n",
       "      <td>9841.500000</td>\n",
       "      <td>no</td>\n",
       "    </tr>\n",
       "  </tbody>\n",
       "</table>\n",
       "</div>"
      ],
      "text/plain": [
       "   credit_limit  gender education marital_status  age timeliness_1  \\\n",
       "0         20000  female       uni        married   24          m+2   \n",
       "1        120000  female       uni         single   26          m-1   \n",
       "2         90000  female       uni         single   34          m+0   \n",
       "3         50000  female       uni        married   37          m+0   \n",
       "4         50000    male       uni        married   57          m-1   \n",
       "\n",
       "  timeliness_2 timeliness_3 timeliness_4 timeliness_5 timeliness_6  balance_1  \\\n",
       "0          m+2          m-1          m-1          m-2          m-2       3913   \n",
       "1          m+2          m+0          m+0          m+0          m+2       2682   \n",
       "2          m+0          m+0          m+0          m+0          m+0      29239   \n",
       "3          m+0          m+0          m+0          m+0          m+0      46990   \n",
       "4          m+0          m-1          m+0          m+0          m+0       8617   \n",
       "\n",
       "   balance_2  balance_3  balance_4  balance_5  balance_6  payment_1  \\\n",
       "0       3102        689          0          0          0          0   \n",
       "1       1725       2682       3272       3455       3261          0   \n",
       "2      14027      13559      14331      14948      15549       1518   \n",
       "3      48233      49291      28314      28959      29547       2000   \n",
       "4       5670      35835      20940      19146      19131       2000   \n",
       "\n",
       "   payment_2  payment_3  payment_4  payment_5  payment_6   avg_balance  \\\n",
       "0        689          0          0          0          0   1284.000000   \n",
       "1       1000       1000       1000          0       2000   2846.166667   \n",
       "2       1500       1000       1000       1000       5000  16942.166667   \n",
       "3       2019       1200       1100       1069       1000  38555.666667   \n",
       "4      36681      10000       9000        689        679  18223.166667   \n",
       "\n",
       "   avg_payment default  \n",
       "0   114.833333     yes  \n",
       "1   833.333333     yes  \n",
       "2  1836.333333      no  \n",
       "3  1398.000000      no  \n",
       "4  9841.500000      no  "
      ]
     },
     "execution_count": 14,
     "metadata": {},
     "output_type": "execute_result"
    }
   ],
   "source": [
    "df1.head()"
   ]
  },
  {
   "cell_type": "markdown",
   "id": "aa6a680f",
   "metadata": {},
   "source": [
    "### univariate analysis"
   ]
  },
  {
   "cell_type": "code",
   "execution_count": 15,
   "id": "95968fd3",
   "metadata": {},
   "outputs": [
    {
     "data": {
      "image/png": "[encoded data removed]",
      "text/plain": [
       "<Figure size 720x1080 with 10 Axes>"
      ]
     },
     "metadata": {
      "needs_background": "light"
     },
     "output_type": "display_data"
    }
   ],
   "source": [
    "plt.figure(figsize=(10,15))\n",
    "j=1\n",
    "for i in df1.select_dtypes('object').columns:\n",
    "    plt.subplot(5,2,j)\n",
    "    sns.countplot(df1[i])\n",
    "    plt.title(i)\n",
    "    plt.xticks(rotation ='vertical')\n",
    "    j+=1\n",
    "    \n",
    "plt.tight_layout()\n",
    "plt.show()"
   ]
  },
  {
   "cell_type": "code",
   "execution_count": 16,
   "id": "d0bf204e",
   "metadata": {},
   "outputs": [],
   "source": [
    "# female are more in number\n",
    "# university member are more\n",
    "# unmarried person are more"
   ]
  },
  {
   "cell_type": "code",
   "execution_count": 17,
   "id": "e1c35b23",
   "metadata": {},
   "outputs": [
    {
     "name": "stdout",
     "output_type": "stream",
     "text": [
      "no     77.88\n",
      "yes    22.12\n",
      "Name: default, dtype: float64\n"
     ]
    },
    {
     "data": {
      "image/png": "[encoded data removed]",
      "text/plain": [
       "<Figure size 432x288 with 1 Axes>"
      ]
     },
     "metadata": {
      "needs_background": "light"
     },
     "output_type": "display_data"
    }
   ],
   "source": [
    "sns.countplot(df.default)\n",
    "plt.title(\"Defaulting Payment Next Month\")\n",
    "print(df['default'].value_counts(normalize=True)*100)\n",
    "plt.show()"
   ]
  },
  {
   "cell_type": "code",
   "execution_count": 18,
   "id": "0880a24d",
   "metadata": {},
   "outputs": [
    {
     "data": {
      "image/png": "[encoded data removed]",
      "text/plain": [
       "<Figure size 1440x360 with 2 Axes>"
      ]
     },
     "metadata": {
      "needs_background": "light"
     },
     "output_type": "display_data"
    }
   ],
   "source": [
    "plt.subplots(figsize=(20,5))\n",
    "plt.subplot(121)\n",
    "sns.distplot(df1['credit_limit'])\n",
    "\n",
    "plt.subplot(122)\n",
    "sns.distplot(df1['age'])\n",
    "\n",
    "plt.show()"
   ]
  },
  {
   "cell_type": "markdown",
   "id": "0d6a4436",
   "metadata": {},
   "source": [
    "By plotting the continous variables we observe that dataset consists of skewed data of credit_limit  and age of clients.\n",
    "We have more number of clients having limiting balance between 0 to 200000 currency.\n",
    "We have more number of clients from age bracket of 20 to 40, i.e., clients from mostly young to mid aged groups."
   ]
  },
  {
   "cell_type": "markdown",
   "id": "1024d120",
   "metadata": {},
   "source": [
    "### bivariate analysis"
   ]
  },
  {
   "cell_type": "code",
   "execution_count": 19,
   "id": "2b0eb1b9",
   "metadata": {},
   "outputs": [
    {
     "data": {
      "image/png": "[encoded data removed]",
      "text/plain": [
       "<Figure size 1080x2160 with 9 Axes>"
      ]
     },
     "metadata": {
      "needs_background": "light"
     },
     "output_type": "display_data"
    }
   ],
   "source": [
    "plt.figure(figsize=(15,30))\n",
    "for i,col in enumerate(df1.select_dtypes(include='object').columns[:-1],1):\n",
    "    plt.subplot(8,2,i)\n",
    "    sns.countplot(x=df1[col],hue=df[\"default\"])\n",
    "    plt.xlabel(col)\n",
    "plt.show()"
   ]
  },
  {
   "cell_type": "code",
   "execution_count": 20,
   "id": "95694cf2",
   "metadata": {},
   "outputs": [],
   "source": [
    "def create_stacked_bar(col):\n",
    "    # Get the percentage of default by each group\n",
    "    default_by_group = pd.crosstab(index=df1['default'],columns = df1[col], normalize = 'columns')\n",
    "    \n",
    "    # Round up to 2 decimal\n",
    "    default_by_group = default_by_group.apply(lambda x: round(x,2))\n",
    "    \n",
    "    labels = default_by_group.columns\n",
    "    list1 = default_by_group.iloc[0].to_list()\n",
    "    list2 = default_by_group.iloc[1].to_list()\n",
    "    \n",
    "    list1_name = \"default_no\"\n",
    "    list2_name = \"default_yes\"\n",
    "    title = f\"Default by {col}\"\n",
    "    xlabel = col\n",
    "    ylabel = \"Default Percentage\"\n",
    "    \n",
    "    fig, ax = plt.subplots(figsize=(10, 5))\n",
    "    bar_width = 0.5\n",
    "    \n",
    "    ax1 = ax.bar(labels,list1, bar_width, label = list1_name)\n",
    "    ax2 = ax.bar(labels,list2, bar_width, bottom = list1, label = list2_name)\n",
    "\n",
    "    ax.set_title(title, fontweight = \"bold\")\n",
    "    ax.set_xlabel(xlabel, fontweight = \"bold\")\n",
    "    ax.set_ylabel(ylabel, fontweight = \"bold\")\n",
    "    ax.legend(loc=\"best\")\n",
    "    \n",
    "    plt.xticks(list(range(len(labels))), labels,rotation=0)\n",
    "    plt.yticks(fontsize=9)\n",
    "\n",
    "    for r1, r2 in zip(ax1, ax2):\n",
    "        h1 = r1.get_height()\n",
    "        h2 = r2.get_height()\n",
    "        plt.text(r1.get_x() + r1.get_width() / 2., h1 / 2., f\"{h1:.0%}\", ha=\"center\", va=\"center\", color=\"white\", fontsize=9, fontweight=\"bold\")\n",
    "        plt.text(r2.get_x() + r2.get_width() / 2., h1 + h2 / 2., f\"{h2:.0%}\", ha=\"center\", va=\"center\", color=\"white\", fontsize=9, fontweight=\"bold\")\n",
    "\n",
    "    plt.show()"
   ]
  },
  {
   "cell_type": "code",
   "execution_count": 21,
   "id": "eceaf06e",
   "metadata": {},
   "outputs": [
    {
     "data": {
      "image/png": "[encoded data removed]",
      "text/plain": [
       "<Figure size 720x360 with 1 Axes>"
      ]
     },
     "metadata": {
      "needs_background": "light"
     },
     "output_type": "display_data"
    }
   ],
   "source": [
    "create_stacked_bar('education')"
   ]
  },
  {
   "cell_type": "code",
   "execution_count": 22,
   "id": "a6813d7a",
   "metadata": {},
   "outputs": [],
   "source": [
    "# bins = [20,30,40,50,60,70,80]\n",
    "# names = ['21-30','31-40','41-50','51-60','61-70','71-80']\n",
    "# df1['AGE_BIN'] = pd.cut(x=df1.age, bins=bins, labels=names, right=True)\n",
    "\n",
    "# age_cnt = df1.AGE_BIN.value_counts()\n",
    "# age_0 = (df1.AGE_BIN[df1['default'] == 0].value_counts())\n",
    "# age_1 = (df1.AGE_BIN[df1['default'] == 1].value_counts())\n",
    "\n",
    "# plt.subplots(figsize=(8,5))\n",
    "# sns.barplot(data=df1, x='AGE_BIN', y='credit_limit', hue='default', ci=0)\n",
    "# plt.bar(age_0.index, age_0.values)\n",
    "# plt.bar(age_1.index, age_1.values)\n",
    "# for x,y in zip(names,age_0):\n",
    "#     plt.text(x,y,y,fontsize=12)\n",
    "# for x,y in zip(names,age_1):\n",
    "#     plt.text(x,y,y,fontsize=12)\n",
    "# plt.xticks(fontsize=12)\n",
    "# plt.yticks(fontsize=12)\n",
    "# plt.title(\"Number of clients in each age group\", fontsize=15)\n",
    "# plt.legend(loc='upper right', fontsize=15)\n",
    "# plt.show()"
   ]
  },
  {
   "cell_type": "code",
   "execution_count": null,
   "id": "25acee19",
   "metadata": {},
   "outputs": [],
   "source": []
  },
  {
   "cell_type": "code",
   "execution_count": null,
   "id": "79787ecf",
   "metadata": {},
   "outputs": [],
   "source": [
    "# Null : Data has Equal Variance   / Var is Equal \n",
    "# Altr : Data has un-equal variance / Var is not Equal"
   ]
  },
  {
   "cell_type": "code",
   "execution_count": null,
   "id": "01a033e0",
   "metadata": {},
   "outputs": [],
   "source": [
    "# stats.levene(sample1,sample2.....sample-n)"
   ]
  },
  {
   "cell_type": "code",
   "execution_count": null,
   "id": "b65ea9ec",
   "metadata": {},
   "outputs": [],
   "source": [
    "stats.levene(df['Salary'],df['Age'])"
   ]
  },
  {
   "cell_type": "code",
   "execution_count": null,
   "id": "c2f3dae6",
   "metadata": {},
   "outputs": [],
   "source": [
    "# Since P_VALUE is less than Sig_level we reject the null hypothesis and concluding that the data doesn't have equal variance."
   ]
  },
  {
   "cell_type": "markdown",
   "id": "c5af120f",
   "metadata": {},
   "source": [
    "# stat test--) num vs cat(=2)"
   ]
  },
  {
   "cell_type": "markdown",
   "id": "c1e75a34",
   "metadata": {},
   "source": [
    "### credit_limit vs default"
   ]
  },
  {
   "cell_type": "code",
   "execution_count": 23,
   "id": "d4fed8df",
   "metadata": {},
   "outputs": [],
   "source": [
    "# Null : Data is normal\n",
    "# Altr : Data is not normal"
   ]
  },
  {
   "cell_type": "code",
   "execution_count": 24,
   "id": "2469a564",
   "metadata": {},
   "outputs": [],
   "source": [
    "credit_limit_yes= df1[df1['default']=='yes']['credit_limit']\n",
    "credit_limit_no= df1[df1['default']=='no']['credit_limit']"
   ]
  },
  {
   "cell_type": "code",
   "execution_count": 25,
   "id": "cdf1b6b5",
   "metadata": {},
   "outputs": [
    {
     "data": {
      "text/plain": [
       "ShapiroResult(statistic=0.9073493480682373, pvalue=0.0)"
      ]
     },
     "execution_count": 25,
     "metadata": {},
     "output_type": "execute_result"
    }
   ],
   "source": [
    "stats.shapiro(df1['credit_limit'])"
   ]
  },
  {
   "cell_type": "code",
   "execution_count": 26,
   "id": "7008050c",
   "metadata": {},
   "outputs": [],
   "source": [
    "# Since p_value is less than sig_level so we reject the null hypothesis we conclude data is not normal."
   ]
  },
  {
   "cell_type": "code",
   "execution_count": 27,
   "id": "51b5d26a",
   "metadata": {},
   "outputs": [],
   "source": [
    "## Non - Parametric Test +-"
   ]
  },
  {
   "cell_type": "code",
   "execution_count": 28,
   "id": "d87877fb",
   "metadata": {},
   "outputs": [],
   "source": [
    "# Null : credit_limit & default are Independent\n",
    "# ALTR : credit_limit & default are Dependent"
   ]
  },
  {
   "cell_type": "code",
   "execution_count": 29,
   "id": "79d38ae6",
   "metadata": {},
   "outputs": [
    {
     "data": {
      "text/plain": [
       "MannwhitneyuResult(statistic=95786286.5, pvalue=1.2255485818223303e-189)"
      ]
     },
     "execution_count": 29,
     "metadata": {},
     "output_type": "execute_result"
    }
   ],
   "source": [
    "stats.mannwhitneyu(credit_limit_no,credit_limit_yes)"
   ]
  },
  {
   "cell_type": "code",
   "execution_count": 30,
   "id": "ae61d3f2",
   "metadata": {},
   "outputs": [],
   "source": [
    "#Since P_val is less tan the sig_level we reject the null hypothesis and concluding that\n",
    "#the credit_limit & default are dependent."
   ]
  },
  {
   "cell_type": "markdown",
   "id": "d6b0028e",
   "metadata": {},
   "source": [
    "### age vs default"
   ]
  },
  {
   "cell_type": "code",
   "execution_count": 31,
   "id": "68a58c9f",
   "metadata": {},
   "outputs": [],
   "source": [
    "# Null : Data is normal\n",
    "# Altr : Data is not normal"
   ]
  },
  {
   "cell_type": "code",
   "execution_count": 32,
   "id": "718d929f",
   "metadata": {},
   "outputs": [
    {
     "data": {
      "text/plain": [
       "ShapiroResult(statistic=0.9499877691268921, pvalue=0.0)"
      ]
     },
     "execution_count": 32,
     "metadata": {},
     "output_type": "execute_result"
    }
   ],
   "source": [
    "stats.shapiro(df1['age'])"
   ]
  },
  {
   "cell_type": "code",
   "execution_count": 33,
   "id": "61939702",
   "metadata": {},
   "outputs": [],
   "source": [
    "# Since p_value is less than sig_level we conclude data is not normal."
   ]
  },
  {
   "cell_type": "code",
   "execution_count": 34,
   "id": "9b50a664",
   "metadata": {},
   "outputs": [],
   "source": [
    "## Non - Parametric Test \n",
    "\n",
    "# Null : age & default are Independent\n",
    "# ALTR : age & default are Dependent"
   ]
  },
  {
   "cell_type": "code",
   "execution_count": 35,
   "id": "b4a35108",
   "metadata": {},
   "outputs": [],
   "source": [
    "age_default_yes= df1[df1['default']=='yes']['age']\n",
    "age_default_no= df1[df1['default']=='no']['age']"
   ]
  },
  {
   "cell_type": "code",
   "execution_count": 36,
   "id": "8012d56d",
   "metadata": {},
   "outputs": [
    {
     "data": {
      "text/plain": [
       "MannwhitneyuResult(statistic=76966879.5, pvalue=0.3725035434898616)"
      ]
     },
     "execution_count": 36,
     "metadata": {},
     "output_type": "execute_result"
    }
   ],
   "source": [
    "stats.mannwhitneyu(age_default_no,age_default_yes)"
   ]
  },
  {
   "cell_type": "code",
   "execution_count": 37,
   "id": "02f917c6",
   "metadata": {},
   "outputs": [],
   "source": [
    "# Since p_value is greater than the sig_level we fail to reject null hypothesis and concluding that\n",
    "# the age & default are independent"
   ]
  },
  {
   "cell_type": "markdown",
   "id": "3dff28d8",
   "metadata": {},
   "source": [
    "### balance vs default\n",
    "\n",
    "balance_1,balance_2\t,balance_3,balance_4,balance_5,balance_6"
   ]
  },
  {
   "cell_type": "code",
   "execution_count": 38,
   "id": "3fe75dcf",
   "metadata": {},
   "outputs": [],
   "source": [
    "# Null : Data is normal\n",
    "# Altr : Data is not normal"
   ]
  },
  {
   "cell_type": "code",
   "execution_count": 39,
   "id": "8c528110",
   "metadata": {},
   "outputs": [
    {
     "name": "stdout",
     "output_type": "stream",
     "text": [
      "balance_1 ShapiroResult(statistic=0.6974822282791138, pvalue=0.0)\n",
      "balance_2 ShapiroResult(statistic=0.6953327059745789, pvalue=0.0)\n",
      "balance_3 ShapiroResult(statistic=0.6818559765815735, pvalue=0.0)\n",
      "balance_4 ShapiroResult(statistic=0.6816972494125366, pvalue=0.0)\n",
      "balance_5 ShapiroResult(statistic=0.6766496896743774, pvalue=0.0)\n",
      "balance_6 ShapiroResult(statistic=0.6759445667266846, pvalue=0.0)\n"
     ]
    }
   ],
   "source": [
    "balance=['balance_1','balance_2','balance_3','balance_4','balance_5','balance_6']\n",
    "for i in balance:\n",
    "    print(i,stats.shapiro(df1[i]))"
   ]
  },
  {
   "cell_type": "code",
   "execution_count": 40,
   "id": "085e276c",
   "metadata": {},
   "outputs": [],
   "source": [
    "# Since p_value is less than sig_level we conclude that data is not normal\n",
    "#for all balance_1,balance_2,balance_3,balance_4,balance_5,balance_6"
   ]
  },
  {
   "cell_type": "code",
   "execution_count": 41,
   "id": "6a5a0111",
   "metadata": {},
   "outputs": [],
   "source": [
    "## Non - Parametric Test \n",
    "\n",
    "# Null : balance_1,2,3,4,5,6 & default are Independent\n",
    "# ALTR : balance_1,2,3,4,5,6 & default are Dependent"
   ]
  },
  {
   "cell_type": "code",
   "execution_count": 42,
   "id": "c444da38",
   "metadata": {},
   "outputs": [
    {
     "name": "stdout",
     "output_type": "stream",
     "text": [
      "balance_1 MannwhitneyuResult(statistic=74791058.5, pvalue=1.1510381825298247e-05)\n",
      "balance_2 MannwhitneyuResult(statistic=75845011.0, pvalue=0.007061205045571093)\n",
      "balance_3 MannwhitneyuResult(statistic=76156098.5, pvalue=0.028202701361998515)\n",
      "balance_4 MannwhitneyuResult(statistic=76621117.5, pvalue=0.14776781853794307)\n",
      "balance_5 MannwhitneyuResult(statistic=76783544.0, pvalue=0.23536702261617015)\n",
      "balance_6 MannwhitneyuResult(statistic=77513553.0, pvalue=0.9894808402783662)\n"
     ]
    }
   ],
   "source": [
    "for i in balance:\n",
    "    default_yes=df1[df1['default']=='yes'][i]\n",
    "    default_no=df1[df1['default']=='no'][i]\n",
    "    print(i,stats.mannwhitneyu(default_yes,default_no))"
   ]
  },
  {
   "cell_type": "code",
   "execution_count": 43,
   "id": "c201431e",
   "metadata": {},
   "outputs": [],
   "source": [
    "# Since p_value is less than the sig_level we reject null hypothesis and concluding that\n",
    "# the balance_1 & default are dependent."
   ]
  },
  {
   "cell_type": "code",
   "execution_count": 44,
   "id": "834de18e",
   "metadata": {},
   "outputs": [],
   "source": [
    "# Since p_value is greater than the sig_level we fail to reject null hypothesis and concluding that\n",
    "# the balance_2,3,4,5,6 & default are independent"
   ]
  },
  {
   "cell_type": "markdown",
   "id": "58f9bd59",
   "metadata": {},
   "source": [
    "### payment vs default\n",
    "\n",
    "payment_1,payment_2,payment_3,payment_4,payment_5,payment_6"
   ]
  },
  {
   "cell_type": "code",
   "execution_count": 45,
   "id": "31f87873",
   "metadata": {},
   "outputs": [],
   "source": [
    "# Null : Data is normal\n",
    "# Altr : Data is not normal"
   ]
  },
  {
   "cell_type": "code",
   "execution_count": 46,
   "id": "d01e0119",
   "metadata": {},
   "outputs": [
    {
     "name": "stdout",
     "output_type": "stream",
     "text": [
      "payment_1 ShapiroResult(statistic=0.2652016282081604, pvalue=0.0)\n",
      "payment_2 ShapiroResult(statistic=0.17241019010543823, pvalue=0.0)\n",
      "payment_3 ShapiroResult(statistic=0.2318122386932373, pvalue=0.0)\n",
      "payment_4 ShapiroResult(statistic=0.25600308179855347, pvalue=0.0)\n",
      "payment_5 ShapiroResult(statistic=0.26412832736968994, pvalue=0.0)\n",
      "payment_6 ShapiroResult(statistic=0.251467764377594, pvalue=0.0)\n"
     ]
    }
   ],
   "source": [
    "payment=['payment_1','payment_2','payment_3','payment_4','payment_5','payment_6']\n",
    "for i in payment:\n",
    "    print(i,stats.shapiro(df1[i]))"
   ]
  },
  {
   "cell_type": "code",
   "execution_count": 47,
   "id": "b7f7484c",
   "metadata": {},
   "outputs": [],
   "source": [
    "# Since p_value is less than sig_level we conclude that data is not normal\n",
    "#for all payment_1,payment_2,payment_3,payment_4,payment_5,payment_6"
   ]
  },
  {
   "cell_type": "code",
   "execution_count": 48,
   "id": "b450076e",
   "metadata": {},
   "outputs": [],
   "source": [
    "## Non - Parametric Test \n",
    "\n",
    "# Null : payment_1,2,3,4,5,6 & default are Independent\n",
    "# ALTR : payment_1,2,3,4,5,6 & default are Dependent"
   ]
  },
  {
   "cell_type": "code",
   "execution_count": 49,
   "id": "03684d5f",
   "metadata": {},
   "outputs": [
    {
     "name": "stdout",
     "output_type": "stream",
     "text": [
      "payment_1 MannwhitneyuResult(statistic=60262771.0, pvalue=4.616659199185981e-170)\n",
      "payment_2 MannwhitneyuResult(statistic=61289748.0, pvalue=9.954975969253173e-151)\n",
      "payment_3 MannwhitneyuResult(statistic=62551544.5, pvalue=8.992708492430757e-129)\n",
      "payment_4 MannwhitneyuResult(statistic=63790208.5, pvalue=7.284694665069206e-109)\n",
      "payment_5 MannwhitneyuResult(statistic=65021456.0, pvalue=1.1248698832662903e-90)\n",
      "payment_6 MannwhitneyuResult(statistic=64517205.0, pvalue=3.1841165363473415e-98)\n"
     ]
    }
   ],
   "source": [
    "for i in payment:\n",
    "    default_yes=df[df1['default']=='yes'][i]\n",
    "    default_no=df[df1['default']=='no'][i]\n",
    "    print(i,stats.mannwhitneyu(default_yes,default_no))"
   ]
  },
  {
   "cell_type": "code",
   "execution_count": 50,
   "id": "3c79bd60",
   "metadata": {},
   "outputs": [],
   "source": [
    "# Since p_value is less than the sig_level we reject null hypothesis and concluding that\n",
    "# the balance_1,2,3,4,5,6 & default are dependent."
   ]
  },
  {
   "cell_type": "markdown",
   "id": "a9e0650e",
   "metadata": {},
   "source": [
    "## stat test--) cat vs cat"
   ]
  },
  {
   "cell_type": "markdown",
   "id": "e5c0413f",
   "metadata": {},
   "source": [
    "### gender vs default"
   ]
  },
  {
   "cell_type": "code",
   "execution_count": 51,
   "id": "5bad7f60",
   "metadata": {},
   "outputs": [],
   "source": [
    "# Null : gender vs default are Independent / gender has no impact on default\n",
    "\n",
    "# ALTR : gender vs default are Dependent / gender has Impact on default"
   ]
  },
  {
   "cell_type": "code",
   "execution_count": 52,
   "id": "6414bb24",
   "metadata": {},
   "outputs": [
    {
     "data": {
      "text/plain": [
       "4.944678999412026e-12"
      ]
     },
     "execution_count": 52,
     "metadata": {},
     "output_type": "execute_result"
    }
   ],
   "source": [
    "test_stat,P_value,Degrees_of_freedom,Exp_values = stats.chi2_contingency(pd.crosstab(df1['gender'],df1['default']))\n",
    "P_value"
   ]
  },
  {
   "cell_type": "code",
   "execution_count": 53,
   "id": "50929c69",
   "metadata": {},
   "outputs": [],
   "source": [
    "# Since P_val is less than the sig_level we reject the null hypothesis and conclude that \n",
    "# the gender has an impact on default."
   ]
  },
  {
   "cell_type": "markdown",
   "id": "b472132b",
   "metadata": {},
   "source": [
    "### education vs default"
   ]
  },
  {
   "cell_type": "code",
   "execution_count": 54,
   "id": "82bf7a2a",
   "metadata": {},
   "outputs": [],
   "source": [
    "# Null : education vs default are Independent / education has no impact on default\n",
    "\n",
    "# ALTR : education vs default are Dependent / education has Impact on default"
   ]
  },
  {
   "cell_type": "code",
   "execution_count": 55,
   "id": "0c55296d",
   "metadata": {},
   "outputs": [
    {
     "data": {
      "text/plain": [
       "1.4950645648106153e-34"
      ]
     },
     "execution_count": 55,
     "metadata": {},
     "output_type": "execute_result"
    }
   ],
   "source": [
    "test_stat,P_value,Degrees_of_freedom,Exp_values = stats.chi2_contingency(pd.crosstab(df1['education'],df1['default']))\n",
    "P_value"
   ]
  },
  {
   "cell_type": "code",
   "execution_count": 56,
   "id": "9411fb02",
   "metadata": {},
   "outputs": [],
   "source": [
    "# Since P_val is less than the sig_level we reject the null hypothesis and conclude that \n",
    "# the education has an impact on default."
   ]
  },
  {
   "cell_type": "markdown",
   "id": "d85b9411",
   "metadata": {},
   "source": [
    "### marital_status vs default"
   ]
  },
  {
   "cell_type": "code",
   "execution_count": 57,
   "id": "dfa08906",
   "metadata": {},
   "outputs": [],
   "source": [
    "# Null : marital_status vs default are Independent / marital_status has no impact on default\n",
    "\n",
    "# ALTR : marital_status vs default are Dependent / marital_status has Impact on default"
   ]
  },
  {
   "cell_type": "code",
   "execution_count": 58,
   "id": "5d0217ac",
   "metadata": {},
   "outputs": [
    {
     "data": {
      "text/plain": [
       "1.5126419390778658e-07"
      ]
     },
     "execution_count": 58,
     "metadata": {},
     "output_type": "execute_result"
    }
   ],
   "source": [
    "test_stat,P_value,Degrees_of_freedom,Exp_values = stats.chi2_contingency(pd.crosstab(df1['marital_status'],df1['default']))\n",
    "P_value"
   ]
  },
  {
   "cell_type": "code",
   "execution_count": 59,
   "id": "28529c98",
   "metadata": {},
   "outputs": [],
   "source": [
    "# Since P_val is less than the sig_level we reject the null hypothesis and conclude that \n",
    "# the marital_status has an impact on default."
   ]
  },
  {
   "cell_type": "code",
   "execution_count": 60,
   "id": "4ef44f81",
   "metadata": {},
   "outputs": [],
   "source": [
    "df2=df1.copy()"
   ]
  },
  {
   "cell_type": "markdown",
   "id": "0f341850",
   "metadata": {},
   "source": [
    "# EDA"
   ]
  },
  {
   "cell_type": "code",
   "execution_count": 61,
   "id": "70ae2dc1",
   "metadata": {},
   "outputs": [],
   "source": [
    "df2['default'].replace({'yes' : 1 , 'no' : 0},inplace=True)"
   ]
  },
  {
   "cell_type": "code",
   "execution_count": 62,
   "id": "adc1982e",
   "metadata": {},
   "outputs": [],
   "source": [
    "#'education'(1=graduate school; 2=university; 3=high school; 4=others) is used for encoding.\n",
    "df2['education'].replace(to_replace=['grad','uni','hs','others'],value=[1,2,3,4],inplace=True)"
   ]
  },
  {
   "cell_type": "code",
   "execution_count": 63,
   "id": "1d1f1b2f",
   "metadata": {},
   "outputs": [],
   "source": [
    "# from sklearn.preprocessing import OrdinalEncoder\n",
    "# df2['education']=OrdinalEncoder(categories=[['others','hs','grad','uni']]).fit_transform(df2['education'].values.reshape(-1,1))"
   ]
  },
  {
   "cell_type": "code",
   "execution_count": 64,
   "id": "74c92766",
   "metadata": {},
   "outputs": [],
   "source": [
    "#replaceing the timeliness_1,timeliness_2,timeliness_3,timeliness_4,timeliness_5,timeliness_6"
   ]
  },
  {
   "cell_type": "code",
   "execution_count": 65,
   "id": "1411f9fa",
   "metadata": {},
   "outputs": [],
   "source": [
    "#replacing the prefix from timeline feature\n",
    "df2.replace(to_replace=['m+8', 'm+7', 'm+6', 'm+5', 'm+4', 'm+3', 'm+2', 'm+1', 'm+0', 'm-1', 'm-2'],value=[8, 7, 6, 5, 4, 3, 2, 1, 0, -1, -2], inplace=True)"
   ]
  },
  {
   "cell_type": "code",
   "execution_count": 66,
   "id": "00e12fee",
   "metadata": {},
   "outputs": [],
   "source": [
    "# 'gender'(1=male; 0=female) is used for encoding.\n",
    "df2['gender'].replace({'male' : 1, 'female' : 0},inplace=True)"
   ]
  },
  {
   "cell_type": "code",
   "execution_count": 67,
   "id": "4641e50f",
   "metadata": {},
   "outputs": [],
   "source": [
    "# 'marital_status'(1=married; 2=single; 3=other) is used for encoding.\n",
    "df2['marital_status'].replace(to_replace=['married','single','other'],value=[1,2,3],inplace=True)"
   ]
  },
  {
   "cell_type": "code",
   "execution_count": 68,
   "id": "2c3de122",
   "metadata": {},
   "outputs": [],
   "source": [
    "df2['timeliness'] = df2['timeliness_1'] + df2['timeliness_2'] + df2['timeliness_3'] + df2['timeliness_4'] + df2['timeliness_5'] + df2['timeliness_1']"
   ]
  },
  {
   "cell_type": "code",
   "execution_count": 69,
   "id": "aed52578",
   "metadata": {},
   "outputs": [],
   "source": [
    "def zero(x):\n",
    "    if x<=0:\n",
    "        return 0\n",
    "    else:\n",
    "        return 1"
   ]
  },
  {
   "cell_type": "code",
   "execution_count": 70,
   "id": "1c4059fa",
   "metadata": {},
   "outputs": [],
   "source": [
    "df2['timeliness']=df2[\"timeliness\"].map(zero)"
   ]
  },
  {
   "cell_type": "code",
   "execution_count": 71,
   "id": "a50e8545",
   "metadata": {},
   "outputs": [],
   "source": [
    "x1=df2[['timeliness_1','timeliness_2','timeliness_3','timeliness_4','timeliness_5','timeliness_6','timeliness']]"
   ]
  },
  {
   "cell_type": "code",
   "execution_count": 72,
   "id": "1d62eab3",
   "metadata": {},
   "outputs": [
    {
     "data": {
      "text/html": [
       "<div>\n",
       "<style scoped>\n",
       "    .dataframe tbody tr th:only-of-type {\n",
       "        vertical-align: middle;\n",
       "    }\n",
       "\n",
       "    .dataframe tbody tr th {\n",
       "        vertical-align: top;\n",
       "    }\n",
       "\n",
       "    .dataframe thead th {\n",
       "        text-align: right;\n",
       "    }\n",
       "</style>\n",
       "<table border=\"1\" class=\"dataframe\">\n",
       "  <thead>\n",
       "    <tr style=\"text-align: right;\">\n",
       "      <th></th>\n",
       "      <th>timeliness_1</th>\n",
       "      <th>timeliness_2</th>\n",
       "      <th>timeliness_3</th>\n",
       "      <th>timeliness_4</th>\n",
       "      <th>timeliness_5</th>\n",
       "      <th>timeliness_6</th>\n",
       "      <th>timeliness</th>\n",
       "    </tr>\n",
       "  </thead>\n",
       "  <tbody>\n",
       "    <tr>\n",
       "      <th>timeliness_1</th>\n",
       "      <td>1.000000</td>\n",
       "      <td>0.672164</td>\n",
       "      <td>0.574245</td>\n",
       "      <td>0.538841</td>\n",
       "      <td>0.509426</td>\n",
       "      <td>0.474553</td>\n",
       "      <td>0.613439</td>\n",
       "    </tr>\n",
       "    <tr>\n",
       "      <th>timeliness_2</th>\n",
       "      <td>0.672164</td>\n",
       "      <td>1.000000</td>\n",
       "      <td>0.766552</td>\n",
       "      <td>0.662067</td>\n",
       "      <td>0.622780</td>\n",
       "      <td>0.575501</td>\n",
       "      <td>0.626183</td>\n",
       "    </tr>\n",
       "    <tr>\n",
       "      <th>timeliness_3</th>\n",
       "      <td>0.574245</td>\n",
       "      <td>0.766552</td>\n",
       "      <td>1.000000</td>\n",
       "      <td>0.777359</td>\n",
       "      <td>0.686775</td>\n",
       "      <td>0.632684</td>\n",
       "      <td>0.615330</td>\n",
       "    </tr>\n",
       "    <tr>\n",
       "      <th>timeliness_4</th>\n",
       "      <td>0.538841</td>\n",
       "      <td>0.662067</td>\n",
       "      <td>0.777359</td>\n",
       "      <td>1.000000</td>\n",
       "      <td>0.819835</td>\n",
       "      <td>0.716449</td>\n",
       "      <td>0.578025</td>\n",
       "    </tr>\n",
       "    <tr>\n",
       "      <th>timeliness_5</th>\n",
       "      <td>0.509426</td>\n",
       "      <td>0.622780</td>\n",
       "      <td>0.686775</td>\n",
       "      <td>0.819835</td>\n",
       "      <td>1.000000</td>\n",
       "      <td>0.816900</td>\n",
       "      <td>0.538692</td>\n",
       "    </tr>\n",
       "    <tr>\n",
       "      <th>timeliness_6</th>\n",
       "      <td>0.474553</td>\n",
       "      <td>0.575501</td>\n",
       "      <td>0.632684</td>\n",
       "      <td>0.716449</td>\n",
       "      <td>0.816900</td>\n",
       "      <td>1.000000</td>\n",
       "      <td>0.460831</td>\n",
       "    </tr>\n",
       "    <tr>\n",
       "      <th>timeliness</th>\n",
       "      <td>0.613439</td>\n",
       "      <td>0.626183</td>\n",
       "      <td>0.615330</td>\n",
       "      <td>0.578025</td>\n",
       "      <td>0.538692</td>\n",
       "      <td>0.460831</td>\n",
       "      <td>1.000000</td>\n",
       "    </tr>\n",
       "  </tbody>\n",
       "</table>\n",
       "</div>"
      ],
      "text/plain": [
       "              timeliness_1  timeliness_2  timeliness_3  timeliness_4  \\\n",
       "timeliness_1      1.000000      0.672164      0.574245      0.538841   \n",
       "timeliness_2      0.672164      1.000000      0.766552      0.662067   \n",
       "timeliness_3      0.574245      0.766552      1.000000      0.777359   \n",
       "timeliness_4      0.538841      0.662067      0.777359      1.000000   \n",
       "timeliness_5      0.509426      0.622780      0.686775      0.819835   \n",
       "timeliness_6      0.474553      0.575501      0.632684      0.716449   \n",
       "timeliness        0.613439      0.626183      0.615330      0.578025   \n",
       "\n",
       "              timeliness_5  timeliness_6  timeliness  \n",
       "timeliness_1      0.509426      0.474553    0.613439  \n",
       "timeliness_2      0.622780      0.575501    0.626183  \n",
       "timeliness_3      0.686775      0.632684    0.615330  \n",
       "timeliness_4      0.819835      0.716449    0.578025  \n",
       "timeliness_5      1.000000      0.816900    0.538692  \n",
       "timeliness_6      0.816900      1.000000    0.460831  \n",
       "timeliness        0.538692      0.460831    1.000000  "
      ]
     },
     "execution_count": 72,
     "metadata": {},
     "output_type": "execute_result"
    }
   ],
   "source": [
    "x1.corr()"
   ]
  },
  {
   "cell_type": "code",
   "execution_count": 73,
   "id": "c24e659b",
   "metadata": {},
   "outputs": [],
   "source": [
    "x2=df2[['balance_1','balance_2','balance_3','balance_4','balance_5','balance_6','avg_balance']]"
   ]
  },
  {
   "cell_type": "code",
   "execution_count": 74,
   "id": "83333a7c",
   "metadata": {},
   "outputs": [
    {
     "data": {
      "text/html": [
       "<div>\n",
       "<style scoped>\n",
       "    .dataframe tbody tr th:only-of-type {\n",
       "        vertical-align: middle;\n",
       "    }\n",
       "\n",
       "    .dataframe tbody tr th {\n",
       "        vertical-align: top;\n",
       "    }\n",
       "\n",
       "    .dataframe thead th {\n",
       "        text-align: right;\n",
       "    }\n",
       "</style>\n",
       "<table border=\"1\" class=\"dataframe\">\n",
       "  <thead>\n",
       "    <tr style=\"text-align: right;\">\n",
       "      <th></th>\n",
       "      <th>balance_1</th>\n",
       "      <th>balance_2</th>\n",
       "      <th>balance_3</th>\n",
       "      <th>balance_4</th>\n",
       "      <th>balance_5</th>\n",
       "      <th>balance_6</th>\n",
       "      <th>avg_balance</th>\n",
       "    </tr>\n",
       "  </thead>\n",
       "  <tbody>\n",
       "    <tr>\n",
       "      <th>balance_1</th>\n",
       "      <td>1.000000</td>\n",
       "      <td>0.951484</td>\n",
       "      <td>0.892279</td>\n",
       "      <td>0.860272</td>\n",
       "      <td>0.829779</td>\n",
       "      <td>0.802650</td>\n",
       "      <td>0.940100</td>\n",
       "    </tr>\n",
       "    <tr>\n",
       "      <th>balance_2</th>\n",
       "      <td>0.951484</td>\n",
       "      <td>1.000000</td>\n",
       "      <td>0.928326</td>\n",
       "      <td>0.892482</td>\n",
       "      <td>0.859778</td>\n",
       "      <td>0.831594</td>\n",
       "      <td>0.961178</td>\n",
       "    </tr>\n",
       "    <tr>\n",
       "      <th>balance_3</th>\n",
       "      <td>0.892279</td>\n",
       "      <td>0.928326</td>\n",
       "      <td>1.000000</td>\n",
       "      <td>0.923969</td>\n",
       "      <td>0.883910</td>\n",
       "      <td>0.853320</td>\n",
       "      <td>0.961958</td>\n",
       "    </tr>\n",
       "    <tr>\n",
       "      <th>balance_4</th>\n",
       "      <td>0.860272</td>\n",
       "      <td>0.892482</td>\n",
       "      <td>0.923969</td>\n",
       "      <td>1.000000</td>\n",
       "      <td>0.940134</td>\n",
       "      <td>0.900941</td>\n",
       "      <td>0.964501</td>\n",
       "    </tr>\n",
       "    <tr>\n",
       "      <th>balance_5</th>\n",
       "      <td>0.829779</td>\n",
       "      <td>0.859778</td>\n",
       "      <td>0.883910</td>\n",
       "      <td>0.940134</td>\n",
       "      <td>1.000000</td>\n",
       "      <td>0.946197</td>\n",
       "      <td>0.951676</td>\n",
       "    </tr>\n",
       "    <tr>\n",
       "      <th>balance_6</th>\n",
       "      <td>0.802650</td>\n",
       "      <td>0.831594</td>\n",
       "      <td>0.853320</td>\n",
       "      <td>0.900941</td>\n",
       "      <td>0.946197</td>\n",
       "      <td>1.000000</td>\n",
       "      <td>0.928720</td>\n",
       "    </tr>\n",
       "    <tr>\n",
       "      <th>avg_balance</th>\n",
       "      <td>0.940100</td>\n",
       "      <td>0.961178</td>\n",
       "      <td>0.961958</td>\n",
       "      <td>0.964501</td>\n",
       "      <td>0.951676</td>\n",
       "      <td>0.928720</td>\n",
       "      <td>1.000000</td>\n",
       "    </tr>\n",
       "  </tbody>\n",
       "</table>\n",
       "</div>"
      ],
      "text/plain": [
       "             balance_1  balance_2  balance_3  balance_4  balance_5  balance_6  \\\n",
       "balance_1     1.000000   0.951484   0.892279   0.860272   0.829779   0.802650   \n",
       "balance_2     0.951484   1.000000   0.928326   0.892482   0.859778   0.831594   \n",
       "balance_3     0.892279   0.928326   1.000000   0.923969   0.883910   0.853320   \n",
       "balance_4     0.860272   0.892482   0.923969   1.000000   0.940134   0.900941   \n",
       "balance_5     0.829779   0.859778   0.883910   0.940134   1.000000   0.946197   \n",
       "balance_6     0.802650   0.831594   0.853320   0.900941   0.946197   1.000000   \n",
       "avg_balance   0.940100   0.961178   0.961958   0.964501   0.951676   0.928720   \n",
       "\n",
       "             avg_balance  \n",
       "balance_1       0.940100  \n",
       "balance_2       0.961178  \n",
       "balance_3       0.961958  \n",
       "balance_4       0.964501  \n",
       "balance_5       0.951676  \n",
       "balance_6       0.928720  \n",
       "avg_balance     1.000000  "
      ]
     },
     "execution_count": 74,
     "metadata": {},
     "output_type": "execute_result"
    }
   ],
   "source": [
    "x2.corr()"
   ]
  },
  {
   "cell_type": "code",
   "execution_count": 75,
   "id": "274e0b1b",
   "metadata": {},
   "outputs": [],
   "source": [
    "x3=df2[['payment_1','payment_2','payment_3','payment_4','payment_5','payment_6','avg_payment']]"
   ]
  },
  {
   "cell_type": "code",
   "execution_count": 76,
   "id": "89af61ea",
   "metadata": {},
   "outputs": [
    {
     "data": {
      "text/html": [
       "<div>\n",
       "<style scoped>\n",
       "    .dataframe tbody tr th:only-of-type {\n",
       "        vertical-align: middle;\n",
       "    }\n",
       "\n",
       "    .dataframe tbody tr th {\n",
       "        vertical-align: top;\n",
       "    }\n",
       "\n",
       "    .dataframe thead th {\n",
       "        text-align: right;\n",
       "    }\n",
       "</style>\n",
       "<table border=\"1\" class=\"dataframe\">\n",
       "  <thead>\n",
       "    <tr style=\"text-align: right;\">\n",
       "      <th></th>\n",
       "      <th>payment_1</th>\n",
       "      <th>payment_2</th>\n",
       "      <th>payment_3</th>\n",
       "      <th>payment_4</th>\n",
       "      <th>payment_5</th>\n",
       "      <th>payment_6</th>\n",
       "      <th>avg_payment</th>\n",
       "    </tr>\n",
       "  </thead>\n",
       "  <tbody>\n",
       "    <tr>\n",
       "      <th>payment_1</th>\n",
       "      <td>1.000000</td>\n",
       "      <td>0.285576</td>\n",
       "      <td>0.252191</td>\n",
       "      <td>0.199558</td>\n",
       "      <td>0.148459</td>\n",
       "      <td>0.185735</td>\n",
       "      <td>0.596438</td>\n",
       "    </tr>\n",
       "    <tr>\n",
       "      <th>payment_2</th>\n",
       "      <td>0.285576</td>\n",
       "      <td>1.000000</td>\n",
       "      <td>0.244770</td>\n",
       "      <td>0.180107</td>\n",
       "      <td>0.180908</td>\n",
       "      <td>0.157634</td>\n",
       "      <td>0.665297</td>\n",
       "    </tr>\n",
       "    <tr>\n",
       "      <th>payment_3</th>\n",
       "      <td>0.252191</td>\n",
       "      <td>0.244770</td>\n",
       "      <td>1.000000</td>\n",
       "      <td>0.216325</td>\n",
       "      <td>0.159214</td>\n",
       "      <td>0.162740</td>\n",
       "      <td>0.594111</td>\n",
       "    </tr>\n",
       "    <tr>\n",
       "      <th>payment_4</th>\n",
       "      <td>0.199558</td>\n",
       "      <td>0.180107</td>\n",
       "      <td>0.216325</td>\n",
       "      <td>1.000000</td>\n",
       "      <td>0.151830</td>\n",
       "      <td>0.157834</td>\n",
       "      <td>0.526993</td>\n",
       "    </tr>\n",
       "    <tr>\n",
       "      <th>payment_5</th>\n",
       "      <td>0.148459</td>\n",
       "      <td>0.180908</td>\n",
       "      <td>0.159214</td>\n",
       "      <td>0.151830</td>\n",
       "      <td>1.000000</td>\n",
       "      <td>0.154896</td>\n",
       "      <td>0.490584</td>\n",
       "    </tr>\n",
       "    <tr>\n",
       "      <th>payment_6</th>\n",
       "      <td>0.185735</td>\n",
       "      <td>0.157634</td>\n",
       "      <td>0.162740</td>\n",
       "      <td>0.157834</td>\n",
       "      <td>0.154896</td>\n",
       "      <td>1.000000</td>\n",
       "      <td>0.529207</td>\n",
       "    </tr>\n",
       "    <tr>\n",
       "      <th>avg_payment</th>\n",
       "      <td>0.596438</td>\n",
       "      <td>0.665297</td>\n",
       "      <td>0.594111</td>\n",
       "      <td>0.526993</td>\n",
       "      <td>0.490584</td>\n",
       "      <td>0.529207</td>\n",
       "      <td>1.000000</td>\n",
       "    </tr>\n",
       "  </tbody>\n",
       "</table>\n",
       "</div>"
      ],
      "text/plain": [
       "             payment_1  payment_2  payment_3  payment_4  payment_5  payment_6  \\\n",
       "payment_1     1.000000   0.285576   0.252191   0.199558   0.148459   0.185735   \n",
       "payment_2     0.285576   1.000000   0.244770   0.180107   0.180908   0.157634   \n",
       "payment_3     0.252191   0.244770   1.000000   0.216325   0.159214   0.162740   \n",
       "payment_4     0.199558   0.180107   0.216325   1.000000   0.151830   0.157834   \n",
       "payment_5     0.148459   0.180908   0.159214   0.151830   1.000000   0.154896   \n",
       "payment_6     0.185735   0.157634   0.162740   0.157834   0.154896   1.000000   \n",
       "avg_payment   0.596438   0.665297   0.594111   0.526993   0.490584   0.529207   \n",
       "\n",
       "             avg_payment  \n",
       "payment_1       0.596438  \n",
       "payment_2       0.665297  \n",
       "payment_3       0.594111  \n",
       "payment_4       0.526993  \n",
       "payment_5       0.490584  \n",
       "payment_6       0.529207  \n",
       "avg_payment     1.000000  "
      ]
     },
     "execution_count": 76,
     "metadata": {},
     "output_type": "execute_result"
    }
   ],
   "source": [
    "x3.corr()"
   ]
  },
  {
   "cell_type": "code",
   "execution_count": 77,
   "id": "9234bb7c",
   "metadata": {},
   "outputs": [
    {
     "data": {
      "text/html": [
       "<div>\n",
       "<style scoped>\n",
       "    .dataframe tbody tr th:only-of-type {\n",
       "        vertical-align: middle;\n",
       "    }\n",
       "\n",
       "    .dataframe tbody tr th {\n",
       "        vertical-align: top;\n",
       "    }\n",
       "\n",
       "    .dataframe thead th {\n",
       "        text-align: right;\n",
       "    }\n",
       "</style>\n",
       "<table border=\"1\" class=\"dataframe\">\n",
       "  <thead>\n",
       "    <tr style=\"text-align: right;\">\n",
       "      <th></th>\n",
       "      <th>credit_limit</th>\n",
       "      <th>gender</th>\n",
       "      <th>education</th>\n",
       "      <th>marital_status</th>\n",
       "      <th>age</th>\n",
       "      <th>timeliness_1</th>\n",
       "      <th>timeliness_2</th>\n",
       "      <th>timeliness_3</th>\n",
       "      <th>timeliness_4</th>\n",
       "      <th>timeliness_5</th>\n",
       "      <th>timeliness_6</th>\n",
       "      <th>balance_1</th>\n",
       "      <th>balance_2</th>\n",
       "      <th>balance_3</th>\n",
       "      <th>balance_4</th>\n",
       "      <th>balance_5</th>\n",
       "      <th>balance_6</th>\n",
       "      <th>payment_1</th>\n",
       "      <th>payment_2</th>\n",
       "      <th>payment_3</th>\n",
       "      <th>payment_4</th>\n",
       "      <th>payment_5</th>\n",
       "      <th>payment_6</th>\n",
       "      <th>avg_balance</th>\n",
       "      <th>avg_payment</th>\n",
       "      <th>default</th>\n",
       "      <th>timeliness</th>\n",
       "    </tr>\n",
       "  </thead>\n",
       "  <tbody>\n",
       "    <tr>\n",
       "      <th>0</th>\n",
       "      <td>20000</td>\n",
       "      <td>0</td>\n",
       "      <td>2</td>\n",
       "      <td>1</td>\n",
       "      <td>24</td>\n",
       "      <td>2</td>\n",
       "      <td>2</td>\n",
       "      <td>-1</td>\n",
       "      <td>-1</td>\n",
       "      <td>-2</td>\n",
       "      <td>-2</td>\n",
       "      <td>3913</td>\n",
       "      <td>3102</td>\n",
       "      <td>689</td>\n",
       "      <td>0</td>\n",
       "      <td>0</td>\n",
       "      <td>0</td>\n",
       "      <td>0</td>\n",
       "      <td>689</td>\n",
       "      <td>0</td>\n",
       "      <td>0</td>\n",
       "      <td>0</td>\n",
       "      <td>0</td>\n",
       "      <td>1284.000000</td>\n",
       "      <td>114.833333</td>\n",
       "      <td>1</td>\n",
       "      <td>1</td>\n",
       "    </tr>\n",
       "    <tr>\n",
       "      <th>1</th>\n",
       "      <td>120000</td>\n",
       "      <td>0</td>\n",
       "      <td>2</td>\n",
       "      <td>2</td>\n",
       "      <td>26</td>\n",
       "      <td>-1</td>\n",
       "      <td>2</td>\n",
       "      <td>0</td>\n",
       "      <td>0</td>\n",
       "      <td>0</td>\n",
       "      <td>2</td>\n",
       "      <td>2682</td>\n",
       "      <td>1725</td>\n",
       "      <td>2682</td>\n",
       "      <td>3272</td>\n",
       "      <td>3455</td>\n",
       "      <td>3261</td>\n",
       "      <td>0</td>\n",
       "      <td>1000</td>\n",
       "      <td>1000</td>\n",
       "      <td>1000</td>\n",
       "      <td>0</td>\n",
       "      <td>2000</td>\n",
       "      <td>2846.166667</td>\n",
       "      <td>833.333333</td>\n",
       "      <td>1</td>\n",
       "      <td>0</td>\n",
       "    </tr>\n",
       "    <tr>\n",
       "      <th>2</th>\n",
       "      <td>90000</td>\n",
       "      <td>0</td>\n",
       "      <td>2</td>\n",
       "      <td>2</td>\n",
       "      <td>34</td>\n",
       "      <td>0</td>\n",
       "      <td>0</td>\n",
       "      <td>0</td>\n",
       "      <td>0</td>\n",
       "      <td>0</td>\n",
       "      <td>0</td>\n",
       "      <td>29239</td>\n",
       "      <td>14027</td>\n",
       "      <td>13559</td>\n",
       "      <td>14331</td>\n",
       "      <td>14948</td>\n",
       "      <td>15549</td>\n",
       "      <td>1518</td>\n",
       "      <td>1500</td>\n",
       "      <td>1000</td>\n",
       "      <td>1000</td>\n",
       "      <td>1000</td>\n",
       "      <td>5000</td>\n",
       "      <td>16942.166667</td>\n",
       "      <td>1836.333333</td>\n",
       "      <td>0</td>\n",
       "      <td>0</td>\n",
       "    </tr>\n",
       "    <tr>\n",
       "      <th>3</th>\n",
       "      <td>50000</td>\n",
       "      <td>0</td>\n",
       "      <td>2</td>\n",
       "      <td>1</td>\n",
       "      <td>37</td>\n",
       "      <td>0</td>\n",
       "      <td>0</td>\n",
       "      <td>0</td>\n",
       "      <td>0</td>\n",
       "      <td>0</td>\n",
       "      <td>0</td>\n",
       "      <td>46990</td>\n",
       "      <td>48233</td>\n",
       "      <td>49291</td>\n",
       "      <td>28314</td>\n",
       "      <td>28959</td>\n",
       "      <td>29547</td>\n",
       "      <td>2000</td>\n",
       "      <td>2019</td>\n",
       "      <td>1200</td>\n",
       "      <td>1100</td>\n",
       "      <td>1069</td>\n",
       "      <td>1000</td>\n",
       "      <td>38555.666667</td>\n",
       "      <td>1398.000000</td>\n",
       "      <td>0</td>\n",
       "      <td>0</td>\n",
       "    </tr>\n",
       "    <tr>\n",
       "      <th>4</th>\n",
       "      <td>50000</td>\n",
       "      <td>1</td>\n",
       "      <td>2</td>\n",
       "      <td>1</td>\n",
       "      <td>57</td>\n",
       "      <td>-1</td>\n",
       "      <td>0</td>\n",
       "      <td>-1</td>\n",
       "      <td>0</td>\n",
       "      <td>0</td>\n",
       "      <td>0</td>\n",
       "      <td>8617</td>\n",
       "      <td>5670</td>\n",
       "      <td>35835</td>\n",
       "      <td>20940</td>\n",
       "      <td>19146</td>\n",
       "      <td>19131</td>\n",
       "      <td>2000</td>\n",
       "      <td>36681</td>\n",
       "      <td>10000</td>\n",
       "      <td>9000</td>\n",
       "      <td>689</td>\n",
       "      <td>679</td>\n",
       "      <td>18223.166667</td>\n",
       "      <td>9841.500000</td>\n",
       "      <td>0</td>\n",
       "      <td>0</td>\n",
       "    </tr>\n",
       "  </tbody>\n",
       "</table>\n",
       "</div>"
      ],
      "text/plain": [
       "   credit_limit  gender  education  marital_status  age  timeliness_1  \\\n",
       "0         20000       0          2               1   24             2   \n",
       "1        120000       0          2               2   26            -1   \n",
       "2         90000       0          2               2   34             0   \n",
       "3         50000       0          2               1   37             0   \n",
       "4         50000       1          2               1   57            -1   \n",
       "\n",
       "   timeliness_2  timeliness_3  timeliness_4  timeliness_5  timeliness_6  \\\n",
       "0             2            -1            -1            -2            -2   \n",
       "1             2             0             0             0             2   \n",
       "2             0             0             0             0             0   \n",
       "3             0             0             0             0             0   \n",
       "4             0            -1             0             0             0   \n",
       "\n",
       "   balance_1  balance_2  balance_3  balance_4  balance_5  balance_6  \\\n",
       "0       3913       3102        689          0          0          0   \n",
       "1       2682       1725       2682       3272       3455       3261   \n",
       "2      29239      14027      13559      14331      14948      15549   \n",
       "3      46990      48233      49291      28314      28959      29547   \n",
       "4       8617       5670      35835      20940      19146      19131   \n",
       "\n",
       "   payment_1  payment_2  payment_3  payment_4  payment_5  payment_6  \\\n",
       "0          0        689          0          0          0          0   \n",
       "1          0       1000       1000       1000          0       2000   \n",
       "2       1518       1500       1000       1000       1000       5000   \n",
       "3       2000       2019       1200       1100       1069       1000   \n",
       "4       2000      36681      10000       9000        689        679   \n",
       "\n",
       "    avg_balance  avg_payment  default  timeliness  \n",
       "0   1284.000000   114.833333        1           1  \n",
       "1   2846.166667   833.333333        1           0  \n",
       "2  16942.166667  1836.333333        0           0  \n",
       "3  38555.666667  1398.000000        0           0  \n",
       "4  18223.166667  9841.500000        0           0  "
      ]
     },
     "execution_count": 77,
     "metadata": {},
     "output_type": "execute_result"
    }
   ],
   "source": [
    "df2.head()"
   ]
  },
  {
   "cell_type": "code",
   "execution_count": 78,
   "id": "b827abaf",
   "metadata": {},
   "outputs": [],
   "source": [
    "df3=df2.drop(labels=['timeliness_1','timeliness_2','timeliness_3','timeliness_4','timeliness_5','timeliness_6',\n",
    "                    'balance_1','balance_2','balance_3','balance_4','balance_5','balance_6','payment_1','payment_2',\n",
    "                    'payment_3','payment_4','payment_5','payment_6'],axis=1)"
   ]
  },
  {
   "cell_type": "code",
   "execution_count": 79,
   "id": "253df5b7",
   "metadata": {},
   "outputs": [
    {
     "data": {
      "text/html": [
       "<div>\n",
       "<style scoped>\n",
       "    .dataframe tbody tr th:only-of-type {\n",
       "        vertical-align: middle;\n",
       "    }\n",
       "\n",
       "    .dataframe tbody tr th {\n",
       "        vertical-align: top;\n",
       "    }\n",
       "\n",
       "    .dataframe thead th {\n",
       "        text-align: right;\n",
       "    }\n",
       "</style>\n",
       "<table border=\"1\" class=\"dataframe\">\n",
       "  <thead>\n",
       "    <tr style=\"text-align: right;\">\n",
       "      <th></th>\n",
       "      <th>credit_limit</th>\n",
       "      <th>gender</th>\n",
       "      <th>education</th>\n",
       "      <th>marital_status</th>\n",
       "      <th>age</th>\n",
       "      <th>avg_balance</th>\n",
       "      <th>avg_payment</th>\n",
       "      <th>default</th>\n",
       "      <th>timeliness</th>\n",
       "    </tr>\n",
       "  </thead>\n",
       "  <tbody>\n",
       "    <tr>\n",
       "      <th>18299</th>\n",
       "      <td>210000</td>\n",
       "      <td>0</td>\n",
       "      <td>3</td>\n",
       "      <td>1</td>\n",
       "      <td>40</td>\n",
       "      <td>108047.000000</td>\n",
       "      <td>3714.833333</td>\n",
       "      <td>0</td>\n",
       "      <td>0</td>\n",
       "    </tr>\n",
       "    <tr>\n",
       "      <th>15566</th>\n",
       "      <td>50000</td>\n",
       "      <td>1</td>\n",
       "      <td>3</td>\n",
       "      <td>2</td>\n",
       "      <td>40</td>\n",
       "      <td>36482.833333</td>\n",
       "      <td>2750.000000</td>\n",
       "      <td>1</td>\n",
       "      <td>0</td>\n",
       "    </tr>\n",
       "    <tr>\n",
       "      <th>22066</th>\n",
       "      <td>160000</td>\n",
       "      <td>0</td>\n",
       "      <td>1</td>\n",
       "      <td>2</td>\n",
       "      <td>26</td>\n",
       "      <td>5480.166667</td>\n",
       "      <td>3254.000000</td>\n",
       "      <td>0</td>\n",
       "      <td>0</td>\n",
       "    </tr>\n",
       "    <tr>\n",
       "      <th>4828</th>\n",
       "      <td>90000</td>\n",
       "      <td>0</td>\n",
       "      <td>1</td>\n",
       "      <td>2</td>\n",
       "      <td>28</td>\n",
       "      <td>61419.000000</td>\n",
       "      <td>15583.333333</td>\n",
       "      <td>0</td>\n",
       "      <td>0</td>\n",
       "    </tr>\n",
       "    <tr>\n",
       "      <th>28968</th>\n",
       "      <td>230000</td>\n",
       "      <td>0</td>\n",
       "      <td>1</td>\n",
       "      <td>2</td>\n",
       "      <td>35</td>\n",
       "      <td>25.000000</td>\n",
       "      <td>50.000000</td>\n",
       "      <td>0</td>\n",
       "      <td>0</td>\n",
       "    </tr>\n",
       "    <tr>\n",
       "      <th>4810</th>\n",
       "      <td>300000</td>\n",
       "      <td>0</td>\n",
       "      <td>1</td>\n",
       "      <td>2</td>\n",
       "      <td>31</td>\n",
       "      <td>21564.666667</td>\n",
       "      <td>6722.166667</td>\n",
       "      <td>0</td>\n",
       "      <td>0</td>\n",
       "    </tr>\n",
       "    <tr>\n",
       "      <th>18405</th>\n",
       "      <td>230000</td>\n",
       "      <td>0</td>\n",
       "      <td>1</td>\n",
       "      <td>2</td>\n",
       "      <td>23</td>\n",
       "      <td>21360.166667</td>\n",
       "      <td>1171.833333</td>\n",
       "      <td>0</td>\n",
       "      <td>0</td>\n",
       "    </tr>\n",
       "    <tr>\n",
       "      <th>8803</th>\n",
       "      <td>10000</td>\n",
       "      <td>1</td>\n",
       "      <td>2</td>\n",
       "      <td>2</td>\n",
       "      <td>28</td>\n",
       "      <td>7257.500000</td>\n",
       "      <td>747.500000</td>\n",
       "      <td>0</td>\n",
       "      <td>1</td>\n",
       "    </tr>\n",
       "    <tr>\n",
       "      <th>10349</th>\n",
       "      <td>20000</td>\n",
       "      <td>1</td>\n",
       "      <td>1</td>\n",
       "      <td>1</td>\n",
       "      <td>35</td>\n",
       "      <td>5270.166667</td>\n",
       "      <td>1649.166667</td>\n",
       "      <td>1</td>\n",
       "      <td>0</td>\n",
       "    </tr>\n",
       "    <tr>\n",
       "      <th>18332</th>\n",
       "      <td>310000</td>\n",
       "      <td>0</td>\n",
       "      <td>1</td>\n",
       "      <td>1</td>\n",
       "      <td>36</td>\n",
       "      <td>170494.833333</td>\n",
       "      <td>7801.500000</td>\n",
       "      <td>0</td>\n",
       "      <td>0</td>\n",
       "    </tr>\n",
       "  </tbody>\n",
       "</table>\n",
       "</div>"
      ],
      "text/plain": [
       "       credit_limit  gender  education  marital_status  age    avg_balance  \\\n",
       "18299        210000       0          3               1   40  108047.000000   \n",
       "15566         50000       1          3               2   40   36482.833333   \n",
       "22066        160000       0          1               2   26    5480.166667   \n",
       "4828          90000       0          1               2   28   61419.000000   \n",
       "28968        230000       0          1               2   35      25.000000   \n",
       "4810         300000       0          1               2   31   21564.666667   \n",
       "18405        230000       0          1               2   23   21360.166667   \n",
       "8803          10000       1          2               2   28    7257.500000   \n",
       "10349         20000       1          1               1   35    5270.166667   \n",
       "18332        310000       0          1               1   36  170494.833333   \n",
       "\n",
       "        avg_payment  default  timeliness  \n",
       "18299   3714.833333        0           0  \n",
       "15566   2750.000000        1           0  \n",
       "22066   3254.000000        0           0  \n",
       "4828   15583.333333        0           0  \n",
       "28968     50.000000        0           0  \n",
       "4810    6722.166667        0           0  \n",
       "18405   1171.833333        0           0  \n",
       "8803     747.500000        0           1  \n",
       "10349   1649.166667        1           0  \n",
       "18332   7801.500000        0           0  "
      ]
     },
     "execution_count": 79,
     "metadata": {},
     "output_type": "execute_result"
    }
   ],
   "source": [
    "df3.sample(10)"
   ]
  },
  {
   "cell_type": "code",
   "execution_count": 80,
   "id": "459ed33d",
   "metadata": {},
   "outputs": [],
   "source": [
    "X=df3.drop(labels=['default'],axis=1)\n",
    "y=df3['default']"
   ]
  },
  {
   "cell_type": "code",
   "execution_count": 81,
   "id": "24d26de7",
   "metadata": {},
   "outputs": [
    {
     "name": "stdout",
     "output_type": "stream",
     "text": [
      "X.shape (30000, 8)\n",
      "y_shape (30000,)\n"
     ]
    }
   ],
   "source": [
    "print('X.shape',X.shape)\n",
    "print('y_shape',y.shape)"
   ]
  },
  {
   "cell_type": "code",
   "execution_count": 82,
   "id": "73a911ed",
   "metadata": {},
   "outputs": [],
   "source": [
    "X_train,X_test,y_train,y_test = train_test_split(X, y,train_size=0.80,test_size=0.20,random_state=42)"
   ]
  },
  {
   "cell_type": "code",
   "execution_count": 83,
   "id": "772e8259",
   "metadata": {},
   "outputs": [
    {
     "name": "stdout",
     "output_type": "stream",
     "text": [
      "X_train (24000, 8)\n",
      "X_test (6000, 8)\n",
      "y_train (24000,)\n",
      "y_test (6000,)\n"
     ]
    }
   ],
   "source": [
    "print('X_train',X_train.shape)\n",
    "print('X_test',X_test.shape)\n",
    "print('y_train',y_train.shape)\n",
    "print('y_test',y_test.shape)"
   ]
  },
  {
   "cell_type": "markdown",
   "id": "ab9a6742",
   "metadata": {},
   "source": [
    "# Function"
   ]
  },
  {
   "cell_type": "code",
   "execution_count": 84,
   "id": "83155d3a",
   "metadata": {},
   "outputs": [],
   "source": [
    "score_card = pd.DataFrame(columns=['Model Name', 'AUC Score', 'Precision Score', 'Recall Score',\n",
    "                                       'Accuracy Score', 'f1-score'])\n",
    "def update_score_card (model, y_test,y_pred):\n",
    "    global score_card\n",
    "\n",
    "    score_card=score_card.append({'Model Name': model,\n",
    "                                    'AUC Score' : metrics.roc_auc_score(y_test, y_pred),\n",
    "                                    'Precision Score': metrics.precision_score(y_test, y_pred),\n",
    "                                    'Recall Score': metrics.recall_score(y_test, y_pred),\n",
    "                                    'Accuracy Score': metrics.accuracy_score(y_test, y_pred),\n",
    "                                    'f1-score': metrics.f1_score(y_test, y_pred)}, \n",
    "                                    ignore_index = True)"
   ]
  },
  {
   "cell_type": "markdown",
   "id": "c1cdaac5",
   "metadata": {},
   "source": [
    "# DecisionTree"
   ]
  },
  {
   "cell_type": "code",
   "execution_count": 85,
   "id": "77f90f17",
   "metadata": {},
   "outputs": [
    {
     "name": "stdout",
     "output_type": "stream",
     "text": [
      "TRAIN REPORT:\n",
      "               precision    recall  f1-score   support\n",
      "\n",
      "           0       1.00      1.00      1.00     18678\n",
      "           1       1.00      1.00      1.00      5322\n",
      "\n",
      "    accuracy                           1.00     24000\n",
      "   macro avg       1.00      1.00      1.00     24000\n",
      "weighted avg       1.00      1.00      1.00     24000\n",
      "\n",
      "TEST REPORT:\n",
      "               precision    recall  f1-score   support\n",
      "\n",
      "           0       0.82      0.80      0.81      4686\n",
      "           1       0.34      0.36      0.35      1314\n",
      "\n",
      "    accuracy                           0.71      6000\n",
      "   macro avg       0.58      0.58      0.58      6000\n",
      "weighted avg       0.71      0.71      0.71      6000\n",
      "\n"
     ]
    }
   ],
   "source": [
    "decision_tree_classification = DecisionTreeClassifier(criterion = 'gini', random_state = 42)\n",
    "decision_tree = decision_tree_classification.fit(X_train, y_train)\n",
    "train_pred = decision_tree.predict(X_train)\n",
    "test_pred = decision_tree.predict(X_test)\n",
    "\n",
    "update_score_card('Decision Tree_train', y_train,train_pred)\n",
    "update_score_card('Decision Tree_test', y_test,test_pred)\n",
    "\n",
    "print(\"TRAIN REPORT:\\n\",classification_report(y_train, train_pred))  \n",
    "print(\"TEST REPORT:\\n\",classification_report(y_test, test_pred))"
   ]
  },
  {
   "cell_type": "markdown",
   "id": "2ab26957",
   "metadata": {},
   "source": [
    "# RandomForest"
   ]
  },
  {
   "cell_type": "code",
   "execution_count": 86,
   "id": "89d51b69",
   "metadata": {},
   "outputs": [
    {
     "name": "stdout",
     "output_type": "stream",
     "text": [
      "TRAIN REPORT:\n",
      "               precision    recall  f1-score   support\n",
      "\n",
      "           0       1.00      1.00      1.00     18678\n",
      "           1       1.00      1.00      1.00      5322\n",
      "\n",
      "    accuracy                           1.00     24000\n",
      "   macro avg       1.00      1.00      1.00     24000\n",
      "weighted avg       1.00      1.00      1.00     24000\n",
      "\n",
      "TEST REPORT:\n",
      "               precision    recall  f1-score   support\n",
      "\n",
      "           0       0.83      0.91      0.87      4686\n",
      "           1       0.51      0.32      0.39      1314\n",
      "\n",
      "    accuracy                           0.78      6000\n",
      "   macro avg       0.67      0.62      0.63      6000\n",
      "weighted avg       0.76      0.78      0.76      6000\n",
      "\n"
     ]
    }
   ],
   "source": [
    "rf = RandomForestClassifier(n_estimators = 250, random_state = 42)\n",
    "rf_model = rf.fit(X_train, y_train)\n",
    "train_pred = rf_model.predict(X_train)\n",
    "test_pred = rf_model.predict(X_test)\n",
    "\n",
    "update_score_card('RandomForest_train', y_train,train_pred)\n",
    "update_score_card('RandomForest_test', y_test,test_pred)\n",
    "\n",
    "print(\"TRAIN REPORT:\\n\",classification_report(y_train, train_pred))  \n",
    "print(\"TEST REPORT:\\n\",classification_report(y_test, test_pred))"
   ]
  },
  {
   "cell_type": "markdown",
   "id": "33be94f9",
   "metadata": {},
   "source": [
    "# AdaBoost"
   ]
  },
  {
   "cell_type": "code",
   "execution_count": 87,
   "id": "feeadad6",
   "metadata": {},
   "outputs": [
    {
     "name": "stdout",
     "output_type": "stream",
     "text": [
      "TRAIN REPORT:\n",
      "               precision    recall  f1-score   support\n",
      "\n",
      "           0       0.82      0.93      0.87     18678\n",
      "           1       0.56      0.30      0.39      5322\n",
      "\n",
      "    accuracy                           0.79     24000\n",
      "   macro avg       0.69      0.62      0.63     24000\n",
      "weighted avg       0.77      0.79      0.77     24000\n",
      "\n",
      "TEST REPORT:\n",
      "               precision    recall  f1-score   support\n",
      "\n",
      "           0       0.82      0.92      0.87      4686\n",
      "           1       0.51      0.28      0.36      1314\n",
      "\n",
      "    accuracy                           0.78      6000\n",
      "   macro avg       0.67      0.60      0.62      6000\n",
      "weighted avg       0.75      0.78      0.76      6000\n",
      "\n"
     ]
    }
   ],
   "source": [
    "adaboost = AdaBoostClassifier(n_estimators = 300, random_state = 42)\n",
    "ada_model=adaboost.fit(X_train, y_train)\n",
    "\n",
    "train_pred = ada_model.predict(X_train)\n",
    "test_pred = ada_model.predict(X_test)\n",
    "\n",
    "update_score_card('AdaBoost_train', y_train,train_pred)\n",
    "update_score_card('AdaBoost_test', y_test,test_pred)\n",
    "\n",
    "print(\"TRAIN REPORT:\\n\",classification_report(y_train, train_pred))  \n",
    "print(\"TEST REPORT:\\n\",classification_report(y_test, test_pred))"
   ]
  },
  {
   "cell_type": "markdown",
   "id": "89565381",
   "metadata": {},
   "source": [
    "# GradientBoost"
   ]
  },
  {
   "cell_type": "code",
   "execution_count": 88,
   "id": "7d0fea76",
   "metadata": {},
   "outputs": [
    {
     "name": "stdout",
     "output_type": "stream",
     "text": [
      "TRAIN REPORT:\n",
      "               precision    recall  f1-score   support\n",
      "\n",
      "           0       0.94      1.00      0.97     18678\n",
      "           1       0.98      0.78      0.87      5322\n",
      "\n",
      "    accuracy                           0.95     24000\n",
      "   macro avg       0.96      0.89      0.92     24000\n",
      "weighted avg       0.95      0.95      0.95     24000\n",
      "\n",
      "TEST REPORT:\n",
      "               precision    recall  f1-score   support\n",
      "\n",
      "           0       0.83      0.91      0.87      4686\n",
      "           1       0.50      0.32      0.39      1314\n",
      "\n",
      "    accuracy                           0.78      6000\n",
      "   macro avg       0.66      0.62      0.63      6000\n",
      "weighted avg       0.76      0.78      0.76      6000\n",
      "\n"
     ]
    }
   ],
   "source": [
    "gboost = GradientBoostingClassifier(n_estimators = 150, max_depth = 10, random_state = 142)\n",
    "gboost_model=gboost.fit(X_train, y_train)\n",
    "\n",
    "train_pred = gboost_model.predict(X_train)\n",
    "test_pred = gboost_model.predict(X_test)\n",
    "\n",
    "update_score_card('GradientBoost_train', y_train,train_pred)\n",
    "update_score_card('GradientBoost_test', y_test,test_pred)\n",
    "\n",
    "print(\"TRAIN REPORT:\\n\",classification_report(y_train, train_pred))  \n",
    "print(\"TEST REPORT:\\n\",classification_report(y_test, test_pred))"
   ]
  },
  {
   "cell_type": "markdown",
   "id": "0c221cf6",
   "metadata": {},
   "source": [
    "# XGBoost"
   ]
  },
  {
   "cell_type": "code",
   "execution_count": 89,
   "id": "55d167ce",
   "metadata": {},
   "outputs": [
    {
     "name": "stdout",
     "output_type": "stream",
     "text": [
      "TRAIN REPORT:\n",
      "               precision    recall  f1-score   support\n",
      "\n",
      "           0       0.91      0.99      0.95     18678\n",
      "           1       0.93      0.66      0.77      5322\n",
      "\n",
      "    accuracy                           0.91     24000\n",
      "   macro avg       0.92      0.82      0.86     24000\n",
      "weighted avg       0.91      0.91      0.91     24000\n",
      "\n",
      "TEST REPORT:\n",
      "               precision    recall  f1-score   support\n",
      "\n",
      "           0       0.82      0.91      0.87      4686\n",
      "           1       0.49      0.30      0.38      1314\n",
      "\n",
      "    accuracy                           0.78      6000\n",
      "   macro avg       0.66      0.61      0.62      6000\n",
      "weighted avg       0.75      0.78      0.76      6000\n",
      "\n"
     ]
    }
   ],
   "source": [
    "xgb = XGBClassifier(max_depth = 10, gamma = 1,)\n",
    "xgb_model=xgb.fit(X_train, y_train)\n",
    "\n",
    "train_pred = xgb_model.predict(X_train)\n",
    "test_pred = xgb_model.predict(X_test)\n",
    "\n",
    "update_score_card('XGB_train', y_train,train_pred)\n",
    "update_score_card('XGB_test', y_test,test_pred)\n",
    "\n",
    "print(\"TRAIN REPORT:\\n\",classification_report(y_train, train_pred))  \n",
    "print(\"TEST REPORT:\\n\",classification_report(y_test, test_pred))"
   ]
  },
  {
   "cell_type": "markdown",
   "id": "1271e961",
   "metadata": {},
   "source": [
    "# KNN"
   ]
  },
  {
   "cell_type": "code",
   "execution_count": 90,
   "id": "d8f88638",
   "metadata": {},
   "outputs": [
    {
     "name": "stdout",
     "output_type": "stream",
     "text": [
      "TRAIN REPORT:\n",
      "               precision    recall  f1-score   support\n",
      "\n",
      "           0       0.86      0.95      0.90     18678\n",
      "           1       0.72      0.47      0.57      5322\n",
      "\n",
      "    accuracy                           0.84     24000\n",
      "   macro avg       0.79      0.71      0.74     24000\n",
      "weighted avg       0.83      0.84      0.83     24000\n",
      "\n",
      "TEST REPORT:\n",
      "               precision    recall  f1-score   support\n",
      "\n",
      "           0       0.80      0.88      0.83      4686\n",
      "           1       0.31      0.19      0.24      1314\n",
      "\n",
      "    accuracy                           0.73      6000\n",
      "   macro avg       0.55      0.54      0.54      6000\n",
      "weighted avg       0.69      0.73      0.70      6000\n",
      "\n"
     ]
    }
   ],
   "source": [
    "KNN = KNeighborsClassifier(n_neighbors = 3)\n",
    "knn_model = KNN.fit(X_train,y_train)\n",
    "\n",
    "train_pred = knn_model.predict(X_train)\n",
    "test_pred = knn_model.predict(X_test)\n",
    "\n",
    "update_score_card('KNN_train', y_train,train_pred)\n",
    "update_score_card('KNN_test', y_test,test_pred)\n",
    "\n",
    "print(\"TRAIN REPORT:\\n\",classification_report(y_train, train_pred))  \n",
    "print(\"TEST REPORT:\\n\",classification_report(y_test, test_pred))"
   ]
  },
  {
   "cell_type": "code",
   "execution_count": 91,
   "id": "eb027cb5",
   "metadata": {},
   "outputs": [
    {
     "data": {
      "text/html": [
       "<div>\n",
       "<style scoped>\n",
       "    .dataframe tbody tr th:only-of-type {\n",
       "        vertical-align: middle;\n",
       "    }\n",
       "\n",
       "    .dataframe tbody tr th {\n",
       "        vertical-align: top;\n",
       "    }\n",
       "\n",
       "    .dataframe thead th {\n",
       "        text-align: right;\n",
       "    }\n",
       "</style>\n",
       "<table border=\"1\" class=\"dataframe\">\n",
       "  <thead>\n",
       "    <tr style=\"text-align: right;\">\n",
       "      <th></th>\n",
       "      <th>Model Name</th>\n",
       "      <th>AUC Score</th>\n",
       "      <th>Precision Score</th>\n",
       "      <th>Recall Score</th>\n",
       "      <th>Accuracy Score</th>\n",
       "      <th>f1-score</th>\n",
       "    </tr>\n",
       "  </thead>\n",
       "  <tbody>\n",
       "    <tr>\n",
       "      <th>0</th>\n",
       "      <td>Decision Tree_train</td>\n",
       "      <td>0.998027</td>\n",
       "      <td>1.0</td>\n",
       "      <td>0.996054</td>\n",
       "      <td>0.999125</td>\n",
       "      <td>0.998023</td>\n",
       "    </tr>\n",
       "    <tr>\n",
       "      <th>1</th>\n",
       "      <td>Decision Tree_test</td>\n",
       "      <td>0.583936</td>\n",
       "      <td>0.342407</td>\n",
       "      <td>0.363775</td>\n",
       "      <td>0.707667</td>\n",
       "      <td>0.352768</td>\n",
       "    </tr>\n",
       "    <tr>\n",
       "      <th>2</th>\n",
       "      <td>RandomForest_train</td>\n",
       "      <td>0.99843</td>\n",
       "      <td>0.998871</td>\n",
       "      <td>0.997182</td>\n",
       "      <td>0.999125</td>\n",
       "      <td>0.998025</td>\n",
       "    </tr>\n",
       "    <tr>\n",
       "      <th>3</th>\n",
       "      <td>RandomForest_test</td>\n",
       "      <td>0.615722</td>\n",
       "      <td>0.510429</td>\n",
       "      <td>0.316591</td>\n",
       "      <td>0.783833</td>\n",
       "      <td>0.390794</td>\n",
       "    </tr>\n",
       "    <tr>\n",
       "      <th>4</th>\n",
       "      <td>AdaBoost_train</td>\n",
       "      <td>0.617867</td>\n",
       "      <td>0.55762</td>\n",
       "      <td>0.304585</td>\n",
       "      <td>0.792208</td>\n",
       "      <td>0.393973</td>\n",
       "    </tr>\n",
       "    <tr>\n",
       "      <th>5</th>\n",
       "      <td>AdaBoost_test</td>\n",
       "      <td>0.603507</td>\n",
       "      <td>0.512431</td>\n",
       "      <td>0.282344</td>\n",
       "      <td>0.784</td>\n",
       "      <td>0.364082</td>\n",
       "    </tr>\n",
       "    <tr>\n",
       "      <th>6</th>\n",
       "      <td>GradientBoost_train</td>\n",
       "      <td>0.890272</td>\n",
       "      <td>0.981895</td>\n",
       "      <td>0.784667</td>\n",
       "      <td>0.949042</td>\n",
       "      <td>0.872272</td>\n",
       "    </tr>\n",
       "    <tr>\n",
       "      <th>7</th>\n",
       "      <td>GradientBoost_test</td>\n",
       "      <td>0.615277</td>\n",
       "      <td>0.5</td>\n",
       "      <td>0.320396</td>\n",
       "      <td>0.781</td>\n",
       "      <td>0.390538</td>\n",
       "    </tr>\n",
       "    <tr>\n",
       "      <th>8</th>\n",
       "      <td>XGB_train</td>\n",
       "      <td>0.821127</td>\n",
       "      <td>0.926603</td>\n",
       "      <td>0.657084</td>\n",
       "      <td>0.912417</td>\n",
       "      <td>0.768909</td>\n",
       "    </tr>\n",
       "    <tr>\n",
       "      <th>9</th>\n",
       "      <td>XGB_test</td>\n",
       "      <td>0.607546</td>\n",
       "      <td>0.490172</td>\n",
       "      <td>0.303653</td>\n",
       "      <td>0.778333</td>\n",
       "      <td>0.375</td>\n",
       "    </tr>\n",
       "    <tr>\n",
       "      <th>10</th>\n",
       "      <td>KNN_train</td>\n",
       "      <td>0.709042</td>\n",
       "      <td>0.720207</td>\n",
       "      <td>0.470124</td>\n",
       "      <td>0.842</td>\n",
       "      <td>0.568895</td>\n",
       "    </tr>\n",
       "    <tr>\n",
       "      <th>11</th>\n",
       "      <td>KNN_test</td>\n",
       "      <td>0.535451</td>\n",
       "      <td>0.307412</td>\n",
       "      <td>0.192542</td>\n",
       "      <td>0.728167</td>\n",
       "      <td>0.236781</td>\n",
       "    </tr>\n",
       "  </tbody>\n",
       "</table>\n",
       "</div>"
      ],
      "text/plain": [
       "             Model Name AUC Score Precision Score Recall Score Accuracy Score  \\\n",
       "0   Decision Tree_train  0.998027             1.0     0.996054       0.999125   \n",
       "1    Decision Tree_test  0.583936        0.342407     0.363775       0.707667   \n",
       "2    RandomForest_train   0.99843        0.998871     0.997182       0.999125   \n",
       "3     RandomForest_test  0.615722        0.510429     0.316591       0.783833   \n",
       "4        AdaBoost_train  0.617867         0.55762     0.304585       0.792208   \n",
       "5         AdaBoost_test  0.603507        0.512431     0.282344          0.784   \n",
       "6   GradientBoost_train  0.890272        0.981895     0.784667       0.949042   \n",
       "7    GradientBoost_test  0.615277             0.5     0.320396          0.781   \n",
       "8             XGB_train  0.821127        0.926603     0.657084       0.912417   \n",
       "9              XGB_test  0.607546        0.490172     0.303653       0.778333   \n",
       "10            KNN_train  0.709042        0.720207     0.470124          0.842   \n",
       "11             KNN_test  0.535451        0.307412     0.192542       0.728167   \n",
       "\n",
       "    f1-score  \n",
       "0   0.998023  \n",
       "1   0.352768  \n",
       "2   0.998025  \n",
       "3   0.390794  \n",
       "4   0.393973  \n",
       "5   0.364082  \n",
       "6   0.872272  \n",
       "7   0.390538  \n",
       "8   0.768909  \n",
       "9      0.375  \n",
       "10  0.568895  \n",
       "11  0.236781  "
      ]
     },
     "execution_count": 91,
     "metadata": {},
     "output_type": "execute_result"
    }
   ],
   "source": [
    "score_card"
   ]
  },
  {
   "cell_type": "markdown",
   "id": "e63dfdf0",
   "metadata": {},
   "source": [
    "# Random Forest doing well"
   ]
  },
  {
   "cell_type": "markdown",
   "id": "20f70587",
   "metadata": {},
   "source": [
    "# SMOTE 60%"
   ]
  },
  {
   "cell_type": "code",
   "execution_count": 92,
   "id": "679c905b",
   "metadata": {},
   "outputs": [
    {
     "name": "stdout",
     "output_type": "stream",
     "text": [
      "X_train (24000, 8)\n",
      "X_test (6000, 8)\n",
      "y_train (24000,)\n",
      "y_test (6000,)\n",
      "SMOTE (37382, 8) (37382,)\n"
     ]
    },
    {
     "data": {
      "image/png": "[encoded data removed]",
      "text/plain": [
       "<Figure size 432x288 with 1 Axes>"
      ]
     },
     "metadata": {
      "needs_background": "light"
     },
     "output_type": "display_data"
    }
   ],
   "source": [
    "X=df3.drop(labels='default',axis=1,inplace=False)\n",
    "y=df3['default']\n",
    "\n",
    "X_train, X_test, y_train, y_test = train_test_split(X, y, test_size=0.20, random_state=42)\n",
    "print('X_train',X_train.shape)\n",
    "print('X_test',X_test.shape)\n",
    "print('y_train',y_train.shape)\n",
    "print('y_test',y_test.shape)\n",
    "\n",
    "ros=RandomOverSampler(sampling_strategy=.60)\n",
    "X_ros,y_ros=ros.fit_resample(X,y)\n",
    "print('SMOTE',X_ros.shape,y_ros.shape)\n",
    "sns.countplot(y_ros)\n",
    "plt.title(\"Probability Of Defaulting Payment Next Month\", fontsize=12)\n",
    "plt.show()"
   ]
  },
  {
   "cell_type": "code",
   "execution_count": 93,
   "id": "ea4f37af",
   "metadata": {},
   "outputs": [
    {
     "name": "stdout",
     "output_type": "stream",
     "text": [
      "X_train (29905, 8)\n",
      "X_test (7477, 8)\n",
      "y_train (29905,)\n",
      "y_test (7477,)\n"
     ]
    }
   ],
   "source": [
    "X_train, X_test, y_train, y_test = train_test_split(X_ros, y_ros, test_size=0.20, random_state=42)\n",
    "print('X_train',X_train.shape)\n",
    "print('X_test',X_test.shape)\n",
    "print('y_train',y_train.shape)\n",
    "print('y_test',y_test.shape)"
   ]
  },
  {
   "cell_type": "code",
   "execution_count": 94,
   "id": "39a9ba2f",
   "metadata": {},
   "outputs": [
    {
     "name": "stdout",
     "output_type": "stream",
     "text": [
      "TRAIN REPORT:\n",
      "               precision    recall  f1-score   support\n",
      "\n",
      "           0       1.00      1.00      1.00     18644\n",
      "           1       1.00      1.00      1.00     11261\n",
      "\n",
      "    accuracy                           1.00     29905\n",
      "   macro avg       1.00      1.00      1.00     29905\n",
      "weighted avg       1.00      1.00      1.00     29905\n",
      "\n",
      "TEST REPORT:\n",
      "               precision    recall  f1-score   support\n",
      "\n",
      "           0       0.92      0.88      0.90      4720\n",
      "           1       0.81      0.87      0.84      2757\n",
      "\n",
      "    accuracy                           0.88      7477\n",
      "   macro avg       0.86      0.87      0.87      7477\n",
      "weighted avg       0.88      0.88      0.88      7477\n",
      "\n"
     ]
    }
   ],
   "source": [
    "rf = RandomForestClassifier(n_estimators = 250, random_state = 42)\n",
    "rf_model = rf.fit(X_train, y_train)\n",
    "train_pred = rf_model.predict(X_train)\n",
    "test_pred = rf_model.predict(X_test)\n",
    "\n",
    "update_score_card('RandomForest_train', y_train,train_pred)\n",
    "update_score_card('RandomForest_test', y_test,test_pred)\n",
    "\n",
    "print(\"TRAIN REPORT:\\n\",classification_report(y_train, train_pred))  \n",
    "print(\"TEST REPORT:\\n\",classification_report(y_test, test_pred))"
   ]
  },
  {
   "cell_type": "markdown",
   "id": "b258cc3f",
   "metadata": {},
   "source": [
    "# SMOTE 75%"
   ]
  },
  {
   "cell_type": "code",
   "execution_count": 95,
   "id": "494b4bd8",
   "metadata": {},
   "outputs": [
    {
     "name": "stdout",
     "output_type": "stream",
     "text": [
      "X_train (24000, 8)\n",
      "X_test (6000, 8)\n",
      "y_train (24000,)\n",
      "y_test (6000,)\n",
      "SMOTE (40887, 8) (40887,)\n"
     ]
    },
    {
     "data": {
      "image/png": "[encoded data removed]",
      "text/plain": [
       "<Figure size 432x288 with 1 Axes>"
      ]
     },
     "metadata": {
      "needs_background": "light"
     },
     "output_type": "display_data"
    }
   ],
   "source": [
    "X=df3.drop(labels='default',axis=1,inplace=False)\n",
    "y=df3['default']\n",
    "\n",
    "X_train, X_test, y_train, y_test = train_test_split(X, y, test_size=0.20, random_state=42)\n",
    "print('X_train',X_train.shape)\n",
    "print('X_test',X_test.shape)\n",
    "print('y_train',y_train.shape)\n",
    "print('y_test',y_test.shape)\n",
    "\n",
    "ros=RandomOverSampler(sampling_strategy=.75)\n",
    "X_ros,y_ros=ros.fit_resample(X,y)\n",
    "print('SMOTE',X_ros.shape,y_ros.shape)\n",
    "sns.countplot(y_ros)\n",
    "plt.title(\"Probability Of Defaulting Payment Next Month\", fontsize=12)\n",
    "plt.show()"
   ]
  },
  {
   "cell_type": "code",
   "execution_count": 96,
   "id": "9fcde9ce",
   "metadata": {},
   "outputs": [
    {
     "name": "stdout",
     "output_type": "stream",
     "text": [
      "X_train (32709, 8)\n",
      "X_test (8178, 8)\n",
      "y_train (32709,)\n",
      "y_test (8178,)\n"
     ]
    }
   ],
   "source": [
    "X_train, X_test, y_train, y_test = train_test_split(X_ros, y_ros, test_size=0.20, random_state=42)\n",
    "print('X_train',X_train.shape)\n",
    "print('X_test',X_test.shape)\n",
    "print('y_train',y_train.shape)\n",
    "print('y_test',y_test.shape)"
   ]
  },
  {
   "cell_type": "code",
   "execution_count": 97,
   "id": "294132b7",
   "metadata": {},
   "outputs": [
    {
     "name": "stdout",
     "output_type": "stream",
     "text": [
      "TRAIN REPORT:\n",
      "               precision    recall  f1-score   support\n",
      "\n",
      "           0       1.00      1.00      1.00     18719\n",
      "           1       1.00      1.00      1.00     13990\n",
      "\n",
      "    accuracy                           1.00     32709\n",
      "   macro avg       1.00      1.00      1.00     32709\n",
      "weighted avg       1.00      1.00      1.00     32709\n",
      "\n",
      "TEST REPORT:\n",
      "               precision    recall  f1-score   support\n",
      "\n",
      "           0       0.93      0.87      0.90      4645\n",
      "           1       0.85      0.92      0.88      3533\n",
      "\n",
      "    accuracy                           0.89      8178\n",
      "   macro avg       0.89      0.90      0.89      8178\n",
      "weighted avg       0.90      0.89      0.89      8178\n",
      "\n"
     ]
    }
   ],
   "source": [
    "rf = RandomForestClassifier(n_estimators = 250, random_state = 42)\n",
    "rf_model = rf.fit(X_train, y_train)\n",
    "train_pred = rf_model.predict(X_train)\n",
    "test_pred = rf_model.predict(X_test)\n",
    "\n",
    "update_score_card('RandomForest_train', y_train,train_pred)\n",
    "update_score_card('RandomForest_test', y_test,test_pred)\n",
    "\n",
    "print(\"TRAIN REPORT:\\n\",classification_report(y_train, train_pred))  \n",
    "print(\"TEST REPORT:\\n\",classification_report(y_test, test_pred))"
   ]
  },
  {
   "cell_type": "markdown",
   "id": "ece3c421",
   "metadata": {},
   "source": [
    "# SMOTE 80%"
   ]
  },
  {
   "cell_type": "code",
   "execution_count": 98,
   "id": "e3ff6f1b",
   "metadata": {},
   "outputs": [
    {
     "name": "stdout",
     "output_type": "stream",
     "text": [
      "X_train (24000, 8)\n",
      "X_test (6000, 8)\n",
      "y_train (24000,)\n",
      "y_test (6000,)\n",
      "SMOTE (42055, 8) (42055,)\n"
     ]
    },
    {
     "data": {
      "image/png": "[encoded data removed]",
      "text/plain": [
       "<Figure size 432x288 with 1 Axes>"
      ]
     },
     "metadata": {
      "needs_background": "light"
     },
     "output_type": "display_data"
    }
   ],
   "source": [
    "X=df3.drop(labels='default',axis=1,inplace=False)\n",
    "y=df3['default']\n",
    "\n",
    "X_train, X_test, y_train, y_test = train_test_split(X, y, test_size=0.20, random_state=42)\n",
    "print('X_train',X_train.shape)\n",
    "print('X_test',X_test.shape)\n",
    "print('y_train',y_train.shape)\n",
    "print('y_test',y_test.shape)\n",
    "\n",
    "ros=RandomOverSampler(sampling_strategy=.80)\n",
    "X_ros,y_ros=ros.fit_resample(X,y)\n",
    "print('SMOTE',X_ros.shape,y_ros.shape)\n",
    "sns.countplot(y_ros)\n",
    "plt.title(\"Probability Of Defaulting Payment Next Month\", fontsize=12)\n",
    "plt.show()"
   ]
  },
  {
   "cell_type": "code",
   "execution_count": 99,
   "id": "b3f82a8c",
   "metadata": {},
   "outputs": [
    {
     "name": "stdout",
     "output_type": "stream",
     "text": [
      "X_train (33644, 8)\n",
      "X_test (8411, 8)\n",
      "y_train (33644,)\n",
      "y_test (8411,)\n"
     ]
    }
   ],
   "source": [
    "X_train, X_test, y_train, y_test = train_test_split(X_ros, y_ros, test_size=0.20, random_state=42)\n",
    "print('X_train',X_train.shape)\n",
    "print('X_test',X_test.shape)\n",
    "print('y_train',y_train.shape)\n",
    "print('y_test',y_test.shape)"
   ]
  },
  {
   "cell_type": "code",
   "execution_count": 100,
   "id": "e9ad2074",
   "metadata": {},
   "outputs": [
    {
     "name": "stdout",
     "output_type": "stream",
     "text": [
      "TRAIN REPORT:\n",
      "               precision    recall  f1-score   support\n",
      "\n",
      "           0       1.00      1.00      1.00     18714\n",
      "           1       1.00      1.00      1.00     14930\n",
      "\n",
      "    accuracy                           1.00     33644\n",
      "   macro avg       1.00      1.00      1.00     33644\n",
      "weighted avg       1.00      1.00      1.00     33644\n",
      "\n",
      "TEST REPORT:\n",
      "               precision    recall  f1-score   support\n",
      "\n",
      "           0       0.93      0.87      0.90      4650\n",
      "           1       0.85      0.93      0.88      3761\n",
      "\n",
      "    accuracy                           0.89      8411\n",
      "   macro avg       0.89      0.90      0.89      8411\n",
      "weighted avg       0.90      0.89      0.89      8411\n",
      "\n"
     ]
    }
   ],
   "source": [
    "rf = RandomForestClassifier(n_estimators = 250, random_state = 42)\n",
    "rf_model = rf.fit(X_train, y_train)\n",
    "train_pred = rf_model.predict(X_train)\n",
    "test_pred = rf_model.predict(X_test)\n",
    "\n",
    "update_score_card('RandomForest_train', y_train,train_pred)\n",
    "update_score_card('RandomForest_test', y_test,test_pred)\n",
    "\n",
    "print(\"TRAIN REPORT:\\n\",classification_report(y_train, train_pred))  \n",
    "print(\"TEST REPORT:\\n\",classification_report(y_test, test_pred))"
   ]
  },
  {
   "cell_type": "markdown",
   "id": "fa3dd8e0",
   "metadata": {},
   "source": [
    "# SMOTE 100%"
   ]
  },
  {
   "cell_type": "code",
   "execution_count": 101,
   "id": "c7133d80",
   "metadata": {},
   "outputs": [
    {
     "name": "stdout",
     "output_type": "stream",
     "text": [
      "X_train (24000, 8)\n",
      "X_test (6000, 8)\n",
      "y_train (24000,)\n",
      "y_test (6000,)\n",
      "SMOTE (46728, 8) (46728,)\n"
     ]
    },
    {
     "data": {
      "image/png": "[encoded data removed]",
      "text/plain": [
       "<Figure size 432x288 with 1 Axes>"
      ]
     },
     "metadata": {
      "needs_background": "light"
     },
     "output_type": "display_data"
    }
   ],
   "source": [
    "X=df3.drop(labels='default',axis=1,inplace=False)\n",
    "y=df3['default']\n",
    "\n",
    "X_train, X_test, y_train, y_test = train_test_split(X, y, test_size=0.20, random_state=42)\n",
    "print('X_train',X_train.shape)\n",
    "print('X_test',X_test.shape)\n",
    "print('y_train',y_train.shape)\n",
    "print('y_test',y_test.shape)\n",
    "\n",
    "ros=RandomOverSampler(sampling_strategy=1)\n",
    "X_ros,y_ros=ros.fit_resample(X,y)\n",
    "print('SMOTE',X_ros.shape,y_ros.shape)\n",
    "sns.countplot(y_ros)\n",
    "plt.title(\"Probability Of Defaulting Payment Next Month\", fontsize=12)\n",
    "plt.show()"
   ]
  },
  {
   "cell_type": "code",
   "execution_count": 102,
   "id": "e156b062",
   "metadata": {},
   "outputs": [
    {
     "name": "stdout",
     "output_type": "stream",
     "text": [
      "X_train (37382, 8)\n",
      "X_test (9346, 8)\n",
      "y_train (37382,)\n",
      "y_test (9346,)\n"
     ]
    }
   ],
   "source": [
    "X_train, X_test, y_train, y_test = train_test_split(X_ros, y_ros, test_size=0.20, random_state=42)\n",
    "print('X_train',X_train.shape)\n",
    "print('X_test',X_test.shape)\n",
    "print('y_train',y_train.shape)\n",
    "print('y_test',y_test.shape)"
   ]
  },
  {
   "cell_type": "code",
   "execution_count": 103,
   "id": "9b9d7b2f",
   "metadata": {},
   "outputs": [
    {
     "name": "stdout",
     "output_type": "stream",
     "text": [
      "TRAIN REPORT:\n",
      "               precision    recall  f1-score   support\n",
      "\n",
      "           0       1.00      1.00      1.00     18698\n",
      "           1       1.00      1.00      1.00     18684\n",
      "\n",
      "    accuracy                           1.00     37382\n",
      "   macro avg       1.00      1.00      1.00     37382\n",
      "weighted avg       1.00      1.00      1.00     37382\n",
      "\n",
      "TEST REPORT:\n",
      "               precision    recall  f1-score   support\n",
      "\n",
      "           0       0.96      0.85      0.90      4666\n",
      "           1       0.87      0.97      0.91      4680\n",
      "\n",
      "    accuracy                           0.91      9346\n",
      "   macro avg       0.91      0.91      0.91      9346\n",
      "weighted avg       0.91      0.91      0.91      9346\n",
      "\n"
     ]
    }
   ],
   "source": [
    "rf = RandomForestClassifier(n_estimators = 250, random_state = 42)\n",
    "rf_model = rf.fit(X_train, y_train)\n",
    "train_pred = rf_model.predict(X_train)\n",
    "test_pred = rf_model.predict(X_test)\n",
    "\n",
    "update_score_card('RandomForest_train', y_train,train_pred)\n",
    "update_score_card('RandomForest_test', y_test,test_pred)\n",
    "\n",
    "print(\"TRAIN REPORT:\\n\",classification_report(y_train, train_pred))  \n",
    "print(\"TEST REPORT:\\n\",classification_report(y_test, test_pred))"
   ]
  },
  {
   "cell_type": "markdown",
   "id": "2bb00919",
   "metadata": {},
   "source": [
    "# Smote 75% function"
   ]
  },
  {
   "cell_type": "code",
   "execution_count": 104,
   "id": "f5ee7644",
   "metadata": {},
   "outputs": [],
   "source": [
    "sscore_card = pd.DataFrame(columns=['Model Name', 'AUC Score', 'Precision Score', 'Recall Score',\n",
    "                                       'Accuracy Score', 'f1-score'])\n",
    "def update_sscore_card (model, y_test,y_pred):\n",
    "    global sscore_card\n",
    "\n",
    "    sscore_card=sscore_card.append({'Model Name': model,\n",
    "                                    'AUC Score' : metrics.roc_auc_score(y_test, y_pred),\n",
    "                                    'Precision Score': metrics.precision_score(y_test, y_pred),\n",
    "                                    'Recall Score': metrics.recall_score(y_test, y_pred),\n",
    "                                    'Accuracy Score': metrics.accuracy_score(y_test, y_pred),\n",
    "                                    'f1-score': metrics.f1_score(y_test, y_pred)}, \n",
    "                                    ignore_index = True)"
   ]
  },
  {
   "cell_type": "markdown",
   "id": "fd4ac90e",
   "metadata": {},
   "source": [
    "# Taking smote 75%"
   ]
  },
  {
   "cell_type": "code",
   "execution_count": 105,
   "id": "a41224c6",
   "metadata": {},
   "outputs": [
    {
     "name": "stdout",
     "output_type": "stream",
     "text": [
      "X_train (24000, 8)\n",
      "X_test (6000, 8)\n",
      "y_train (24000,)\n",
      "y_test (6000,)\n",
      "SMOTE (40887, 8) (40887,)\n"
     ]
    },
    {
     "data": {
      "image/png": "[encoded data removed]",
      "text/plain": [
       "<Figure size 432x288 with 1 Axes>"
      ]
     },
     "metadata": {
      "needs_background": "light"
     },
     "output_type": "display_data"
    }
   ],
   "source": [
    "X=df3.drop(labels='default',axis=1,inplace=False)\n",
    "y=df3['default']\n",
    "\n",
    "X_train, X_test, y_train, y_test = train_test_split(X, y, test_size=0.20, random_state=42)\n",
    "print('X_train',X_train.shape)\n",
    "print('X_test',X_test.shape)\n",
    "print('y_train',y_train.shape)\n",
    "print('y_test',y_test.shape)\n",
    "\n",
    "ros=RandomOverSampler(sampling_strategy=.75)\n",
    "X_ros,y_ros=ros.fit_resample(X,y)\n",
    "print('SMOTE',X_ros.shape,y_ros.shape)\n",
    "sns.countplot(y_ros)\n",
    "plt.title(\"Probability Of Defaulting Payment Next Month\", fontsize=12)\n",
    "plt.show()"
   ]
  },
  {
   "cell_type": "code",
   "execution_count": 106,
   "id": "55773632",
   "metadata": {},
   "outputs": [],
   "source": [
    "X_train, X_test, y_train, y_test = train_test_split(X_ros, y_ros, test_size=0.20, random_state=42)"
   ]
  },
  {
   "cell_type": "code",
   "execution_count": 107,
   "id": "977c323b",
   "metadata": {},
   "outputs": [
    {
     "name": "stdout",
     "output_type": "stream",
     "text": [
      "TRAIN REPORT:\n",
      "               precision    recall  f1-score   support\n",
      "\n",
      "           0       1.00      1.00      1.00     18719\n",
      "           1       1.00      1.00      1.00     13990\n",
      "\n",
      "    accuracy                           1.00     32709\n",
      "   macro avg       1.00      1.00      1.00     32709\n",
      "weighted avg       1.00      1.00      1.00     32709\n",
      "\n",
      "TEST REPORT:\n",
      "               precision    recall  f1-score   support\n",
      "\n",
      "           0       0.92      0.79      0.85      4645\n",
      "           1       0.77      0.91      0.83      3533\n",
      "\n",
      "    accuracy                           0.84      8178\n",
      "   macro avg       0.85      0.85      0.84      8178\n",
      "weighted avg       0.86      0.84      0.84      8178\n",
      "\n"
     ]
    }
   ],
   "source": [
    "decision_tree_classification = DecisionTreeClassifier(criterion = 'gini', random_state = 42)\n",
    "decision_tree = decision_tree_classification.fit(X_train, y_train)\n",
    "train_pred = decision_tree.predict(X_train)\n",
    "test_pred = decision_tree.predict(X_test)\n",
    "\n",
    "update_sscore_card('Decision Tree_train SMOTE 75', y_train,train_pred)\n",
    "update_sscore_card('Decision Tree_test SMOTE 75 ', y_test,test_pred)\n",
    "\n",
    "print(\"TRAIN REPORT:\\n\",classification_report(y_train, train_pred))  \n",
    "print(\"TEST REPORT:\\n\",classification_report(y_test, test_pred))"
   ]
  },
  {
   "cell_type": "code",
   "execution_count": 108,
   "id": "b26a9699",
   "metadata": {},
   "outputs": [
    {
     "name": "stdout",
     "output_type": "stream",
     "text": [
      "TRAIN REPORT:\n",
      "               precision    recall  f1-score   support\n",
      "\n",
      "           0       1.00      1.00      1.00     18719\n",
      "           1       1.00      1.00      1.00     13990\n",
      "\n",
      "    accuracy                           1.00     32709\n",
      "   macro avg       1.00      1.00      1.00     32709\n",
      "weighted avg       1.00      1.00      1.00     32709\n",
      "\n",
      "TEST REPORT:\n",
      "               precision    recall  f1-score   support\n",
      "\n",
      "           0       0.93      0.87      0.90      4645\n",
      "           1       0.84      0.92      0.88      3533\n",
      "\n",
      "    accuracy                           0.89      8178\n",
      "   macro avg       0.89      0.89      0.89      8178\n",
      "weighted avg       0.89      0.89      0.89      8178\n",
      "\n",
      "KNN CLASSIFIER:\n"
     ]
    },
    {
     "data": {
      "image/png": "[encoded data removed]",
      "text/plain": [
       "<Figure size 432x288 with 2 Axes>"
      ]
     },
     "metadata": {
      "needs_background": "light"
     },
     "output_type": "display_data"
    }
   ],
   "source": [
    "rf = RandomForestClassifier(n_estimators = 250, random_state = 42)\n",
    "rf_model = rf.fit(X_train, y_train)\n",
    "train_pred = rf_model.predict(X_train)\n",
    "test_pred = rf_model.predict(X_test)\n",
    "\n",
    "update_sscore_card('RandomForest_train SMOTE 75', y_train,train_pred)\n",
    "update_sscore_card('RandomForest_test SMOTE 75', y_test,test_pred)\n",
    "\n",
    "print(\"TRAIN REPORT:\\n\",classification_report(y_train, train_pred))  \n",
    "print(\"TEST REPORT:\\n\",classification_report(y_test, test_pred))\n",
    "\n",
    "\n",
    "\n",
    "cm= confusion_matrix(y_train,train_pred)\n",
    "print(\"KNN CLASSIFIER:\")\n",
    "matrix=pd.DataFrame(cm,index=['Actual:0','Actual:1'],columns=['Predict:0','Predict:1'])\n",
    "sns.heatmap(matrix,annot=True,fmt='d');"
   ]
  },
  {
   "cell_type": "code",
   "execution_count": 109,
   "id": "972cf001",
   "metadata": {},
   "outputs": [
    {
     "name": "stdout",
     "output_type": "stream",
     "text": [
      "TRAIN REPORT:\n",
      "               precision    recall  f1-score   support\n",
      "\n",
      "           0       0.73      0.81      0.77     18719\n",
      "           1       0.71      0.60      0.65     13990\n",
      "\n",
      "    accuracy                           0.72     32709\n",
      "   macro avg       0.72      0.71      0.71     32709\n",
      "weighted avg       0.72      0.72      0.72     32709\n",
      "\n",
      "TEST REPORT:\n",
      "               precision    recall  f1-score   support\n",
      "\n",
      "           0       0.73      0.81      0.76      4645\n",
      "           1       0.70      0.60      0.65      3533\n",
      "\n",
      "    accuracy                           0.72      8178\n",
      "   macro avg       0.71      0.70      0.71      8178\n",
      "weighted avg       0.72      0.72      0.71      8178\n",
      "\n"
     ]
    }
   ],
   "source": [
    "adaboost = AdaBoostClassifier(n_estimators = 300, random_state = 42)\n",
    "ada_model=adaboost.fit(X_train, y_train)\n",
    "\n",
    "train_pred = ada_model.predict(X_train)\n",
    "test_pred = ada_model.predict(X_test)\n",
    "\n",
    "update_sscore_card('AdaBoost_train SMOTE 75', y_train,train_pred)\n",
    "update_sscore_card('AdaBoost_test SMOTE 75', y_test,test_pred)\n",
    "\n",
    "print(\"TRAIN REPORT:\\n\",classification_report(y_train, train_pred))  \n",
    "print(\"TEST REPORT:\\n\",classification_report(y_test, test_pred))"
   ]
  },
  {
   "cell_type": "code",
   "execution_count": 110,
   "id": "c33c772f",
   "metadata": {},
   "outputs": [
    {
     "name": "stdout",
     "output_type": "stream",
     "text": [
      "TRAIN REPORT:\n",
      "               precision    recall  f1-score   support\n",
      "\n",
      "           0       0.93      0.96      0.95     18719\n",
      "           1       0.94      0.91      0.92     13990\n",
      "\n",
      "    accuracy                           0.94     32709\n",
      "   macro avg       0.94      0.93      0.93     32709\n",
      "weighted avg       0.94      0.94      0.94     32709\n",
      "\n",
      "TEST REPORT:\n",
      "               precision    recall  f1-score   support\n",
      "\n",
      "           0       0.86      0.85      0.85      4645\n",
      "           1       0.80      0.81      0.81      3533\n",
      "\n",
      "    accuracy                           0.83      8178\n",
      "   macro avg       0.83      0.83      0.83      8178\n",
      "weighted avg       0.83      0.83      0.83      8178\n",
      "\n"
     ]
    }
   ],
   "source": [
    "gboost = GradientBoostingClassifier(n_estimators = 150, max_depth = 10, random_state = 142)\n",
    "gboost_model=gboost.fit(X_train, y_train)\n",
    "\n",
    "train_pred = gboost_model.predict(X_train)\n",
    "test_pred = gboost_model.predict(X_test)\n",
    "\n",
    "update_sscore_card('GradientBoost_train SMOTE 75', y_train,train_pred)\n",
    "update_sscore_card('GradientBoost_test SMOTE 75', y_test,test_pred)\n",
    "\n",
    "print(\"TRAIN REPORT:\\n\",classification_report(y_train, train_pred))  \n",
    "print(\"TEST REPORT:\\n\",classification_report(y_test, test_pred))"
   ]
  },
  {
   "cell_type": "code",
   "execution_count": 111,
   "id": "db78ca43",
   "metadata": {},
   "outputs": [
    {
     "name": "stdout",
     "output_type": "stream",
     "text": [
      "TRAIN REPORT:\n",
      "               precision    recall  f1-score   support\n",
      "\n",
      "           0       0.94      0.94      0.94     18719\n",
      "           1       0.92      0.92      0.92     13990\n",
      "\n",
      "    accuracy                           0.94     32709\n",
      "   macro avg       0.93      0.93      0.93     32709\n",
      "weighted avg       0.94      0.94      0.94     32709\n",
      "\n",
      "TEST REPORT:\n",
      "               precision    recall  f1-score   support\n",
      "\n",
      "           0       0.85      0.84      0.85      4645\n",
      "           1       0.79      0.81      0.80      3533\n",
      "\n",
      "    accuracy                           0.83      8178\n",
      "   macro avg       0.82      0.82      0.82      8178\n",
      "weighted avg       0.83      0.83      0.83      8178\n",
      "\n"
     ]
    }
   ],
   "source": [
    "xgb = XGBClassifier(max_depth = 10, gamma = 1,)\n",
    "xgb_model=xgb.fit(X_train, y_train)\n",
    "\n",
    "train_pred = xgb_model.predict(X_train)\n",
    "test_pred = xgb_model.predict(X_test)\n",
    "\n",
    "update_sscore_card('XGB_train SMOTE 75', y_train,train_pred)\n",
    "update_sscore_card('XGB_test SMOTE 75', y_test,test_pred)\n",
    "\n",
    "print(\"TRAIN REPORT:\\n\",classification_report(y_train, train_pred))  \n",
    "print(\"TEST REPORT:\\n\",classification_report(y_test, test_pred))"
   ]
  },
  {
   "cell_type": "code",
   "execution_count": 112,
   "id": "34a3ef7a",
   "metadata": {},
   "outputs": [
    {
     "name": "stdout",
     "output_type": "stream",
     "text": [
      "TRAIN REPORT:\n",
      "               precision    recall  f1-score   support\n",
      "\n",
      "           0       0.94      0.82      0.88     18719\n",
      "           1       0.80      0.93      0.86     13990\n",
      "\n",
      "    accuracy                           0.87     32709\n",
      "   macro avg       0.87      0.88      0.87     32709\n",
      "weighted avg       0.88      0.87      0.87     32709\n",
      "\n",
      "TEST REPORT:\n",
      "               precision    recall  f1-score   support\n",
      "\n",
      "           0       0.79      0.67      0.73      4645\n",
      "           1       0.64      0.77      0.70      3533\n",
      "\n",
      "    accuracy                           0.71      8178\n",
      "   macro avg       0.72      0.72      0.71      8178\n",
      "weighted avg       0.73      0.71      0.72      8178\n",
      "\n"
     ]
    }
   ],
   "source": [
    "KNN = KNeighborsClassifier(n_neighbors = 3)\n",
    "knn_model = KNN.fit(X_train,y_train)\n",
    "\n",
    "train_pred = knn_model.predict(X_train)\n",
    "test_pred = knn_model.predict(X_test)\n",
    "\n",
    "update_sscore_card('KNN_train SMOTE 75', y_train,train_pred)\n",
    "update_sscore_card('KNN_test SMOTE 75', y_test,test_pred)\n",
    "\n",
    "print(\"TRAIN REPORT:\\n\",classification_report(y_train, train_pred))  \n",
    "print(\"TEST REPORT:\\n\",classification_report(y_test, test_pred))"
   ]
  },
  {
   "cell_type": "code",
   "execution_count": 113,
   "id": "9b092ef8",
   "metadata": {},
   "outputs": [],
   "source": [
    "model_1=RandomForestClassifier(random_state=1)\n",
    "model_2=XGBClassifier(random_state=10)\n",
    "model_3=KNeighborsClassifier(n_neighbors=10,p=2,metric='minkowski')\n",
    "last=LogisticRegression()"
   ]
  },
  {
   "cell_type": "code",
   "execution_count": 114,
   "id": "d9d47cae",
   "metadata": {},
   "outputs": [],
   "source": [
    "# !pip install mlxtend"
   ]
  },
  {
   "cell_type": "code",
   "execution_count": 115,
   "id": "4a66217e",
   "metadata": {},
   "outputs": [],
   "source": [
    "from mlxtend.classifier import StackingClassifier\n",
    "stack=StackingClassifier(classifiers=[model_1,model_2,model_3],meta_classifier=last)"
   ]
  },
  {
   "cell_type": "code",
   "execution_count": 116,
   "id": "a4b7b191",
   "metadata": {},
   "outputs": [
    {
     "name": "stdout",
     "output_type": "stream",
     "text": [
      "TRAIN REPORT:\n",
      "               precision    recall  f1-score   support\n",
      "\n",
      "           0       1.00      1.00      1.00     18719\n",
      "           1       1.00      1.00      1.00     13990\n",
      "\n",
      "    accuracy                           1.00     32709\n",
      "   macro avg       1.00      1.00      1.00     32709\n",
      "weighted avg       1.00      1.00      1.00     32709\n",
      "\n",
      "TEST REPORT:\n",
      "               precision    recall  f1-score   support\n",
      "\n",
      "           0       0.93      0.87      0.90      4645\n",
      "           1       0.84      0.92      0.88      3533\n",
      "\n",
      "    accuracy                           0.89      8178\n",
      "   macro avg       0.89      0.89      0.89      8178\n",
      "weighted avg       0.89      0.89      0.89      8178\n",
      "\n"
     ]
    }
   ],
   "source": [
    "stack_model=stack.fit(X_train,y_train)\n",
    "train_pred = stack_model.predict(X_train)\n",
    "test_pred = stack_model.predict(X_test)\n",
    "\n",
    "\n",
    "update_sscore_card('stacking_train ', y_train,train_pred)\n",
    "update_sscore_card('stacking_test', y_test,test_pred)\n",
    "\n",
    "print(\"TRAIN REPORT:\\n\",classification_report(y_train, train_pred))  \n",
    "print(\"TEST REPORT:\\n\",classification_report(y_test, test_pred))"
   ]
  },
  {
   "cell_type": "code",
   "execution_count": 117,
   "id": "59b381b1",
   "metadata": {},
   "outputs": [
    {
     "name": "stdout",
     "output_type": "stream",
     "text": [
      "KNN CLASSIFIER:\n"
     ]
    },
    {
     "data": {
      "image/png": "[encoded data removed]",
      "text/plain": [
       "<Figure size 432x288 with 2 Axes>"
      ]
     },
     "metadata": {
      "needs_background": "light"
     },
     "output_type": "display_data"
    }
   ],
   "source": [
    "cm= confusion_matrix(y_train,train_pred)\n",
    "print(\"KNN CLASSIFIER:\")\n",
    "matrix=pd.DataFrame(cm,index=['Actual:0','Actual:1'],columns=['Predict:0','Predict:1'])\n",
    "sns.heatmap(matrix,annot=True,fmt='d');"
   ]
  },
  {
   "cell_type": "code",
   "execution_count": 118,
   "id": "69c3e7fc",
   "metadata": {},
   "outputs": [
    {
     "data": {
      "text/html": [
       "<div>\n",
       "<style scoped>\n",
       "    .dataframe tbody tr th:only-of-type {\n",
       "        vertical-align: middle;\n",
       "    }\n",
       "\n",
       "    .dataframe tbody tr th {\n",
       "        vertical-align: top;\n",
       "    }\n",
       "\n",
       "    .dataframe thead th {\n",
       "        text-align: right;\n",
       "    }\n",
       "</style>\n",
       "<table border=\"1\" class=\"dataframe\">\n",
       "  <thead>\n",
       "    <tr style=\"text-align: right;\">\n",
       "      <th></th>\n",
       "      <th>Model Name</th>\n",
       "      <th>AUC Score</th>\n",
       "      <th>Precision Score</th>\n",
       "      <th>Recall Score</th>\n",
       "      <th>Accuracy Score</th>\n",
       "      <th>f1-score</th>\n",
       "    </tr>\n",
       "  </thead>\n",
       "  <tbody>\n",
       "    <tr>\n",
       "      <th>0</th>\n",
       "      <td>Decision Tree_train SMOTE 75</td>\n",
       "      <td>0.999153</td>\n",
       "      <td>0.9985</td>\n",
       "      <td>0.999428</td>\n",
       "      <td>0.999113</td>\n",
       "      <td>0.998964</td>\n",
       "    </tr>\n",
       "    <tr>\n",
       "      <th>1</th>\n",
       "      <td>Decision Tree_test SMOTE 75</td>\n",
       "      <td>0.851816</td>\n",
       "      <td>0.768278</td>\n",
       "      <td>0.913105</td>\n",
       "      <td>0.843483</td>\n",
       "      <td>0.834454</td>\n",
       "    </tr>\n",
       "    <tr>\n",
       "      <th>2</th>\n",
       "      <td>RandomForest_train SMOTE 75</td>\n",
       "      <td>0.999189</td>\n",
       "      <td>0.998216</td>\n",
       "      <td>0.999714</td>\n",
       "      <td>0.999113</td>\n",
       "      <td>0.998964</td>\n",
       "    </tr>\n",
       "    <tr>\n",
       "      <th>3</th>\n",
       "      <td>RandomForest_test SMOTE 75</td>\n",
       "      <td>0.894542</td>\n",
       "      <td>0.842979</td>\n",
       "      <td>0.919332</td>\n",
       "      <td>0.891171</td>\n",
       "      <td>0.879502</td>\n",
       "    </tr>\n",
       "    <tr>\n",
       "      <th>4</th>\n",
       "      <td>AdaBoost_train SMOTE 75</td>\n",
       "      <td>0.709217</td>\n",
       "      <td>0.70862</td>\n",
       "      <td>0.604074</td>\n",
       "      <td>0.724418</td>\n",
       "      <td>0.652184</td>\n",
       "    </tr>\n",
       "    <tr>\n",
       "      <th>5</th>\n",
       "      <td>AdaBoost_test SMOTE 75</td>\n",
       "      <td>0.703026</td>\n",
       "      <td>0.703803</td>\n",
       "      <td>0.597226</td>\n",
       "      <td>0.717413</td>\n",
       "      <td>0.646149</td>\n",
       "    </tr>\n",
       "    <tr>\n",
       "      <th>6</th>\n",
       "      <td>GradientBoost_train SMOTE 75</td>\n",
       "      <td>0.932865</td>\n",
       "      <td>0.94198</td>\n",
       "      <td>0.907505</td>\n",
       "      <td>0.936531</td>\n",
       "      <td>0.924421</td>\n",
       "    </tr>\n",
       "    <tr>\n",
       "      <th>7</th>\n",
       "      <td>GradientBoost_test SMOTE 75</td>\n",
       "      <td>0.83146</td>\n",
       "      <td>0.804537</td>\n",
       "      <td>0.81319</td>\n",
       "      <td>0.833945</td>\n",
       "      <td>0.80884</td>\n",
       "    </tr>\n",
       "    <tr>\n",
       "      <th>8</th>\n",
       "      <td>XGB_train SMOTE 75</td>\n",
       "      <td>0.934008</td>\n",
       "      <td>0.924325</td>\n",
       "      <td>0.924589</td>\n",
       "      <td>0.935369</td>\n",
       "      <td>0.924457</td>\n",
       "    </tr>\n",
       "    <tr>\n",
       "      <th>9</th>\n",
       "      <td>XGB_test SMOTE 75</td>\n",
       "      <td>0.82378</td>\n",
       "      <td>0.792673</td>\n",
       "      <td>0.808378</td>\n",
       "      <td>0.825874</td>\n",
       "      <td>0.800448</td>\n",
       "    </tr>\n",
       "    <tr>\n",
       "      <th>10</th>\n",
       "      <td>KNN_train SMOTE 75</td>\n",
       "      <td>0.879526</td>\n",
       "      <td>0.799157</td>\n",
       "      <td>0.934596</td>\n",
       "      <td>0.871564</td>\n",
       "      <td>0.861586</td>\n",
       "    </tr>\n",
       "    <tr>\n",
       "      <th>11</th>\n",
       "      <td>KNN_test SMOTE 75</td>\n",
       "      <td>0.720928</td>\n",
       "      <td>0.640838</td>\n",
       "      <td>0.770167</td>\n",
       "      <td>0.714233</td>\n",
       "      <td>0.699576</td>\n",
       "    </tr>\n",
       "    <tr>\n",
       "      <th>12</th>\n",
       "      <td>stacking_train</td>\n",
       "      <td>0.999189</td>\n",
       "      <td>0.998216</td>\n",
       "      <td>0.999714</td>\n",
       "      <td>0.999113</td>\n",
       "      <td>0.998964</td>\n",
       "    </tr>\n",
       "    <tr>\n",
       "      <th>13</th>\n",
       "      <td>stacking_test</td>\n",
       "      <td>0.894548</td>\n",
       "      <td>0.843734</td>\n",
       "      <td>0.918483</td>\n",
       "      <td>0.891294</td>\n",
       "      <td>0.879523</td>\n",
       "    </tr>\n",
       "  </tbody>\n",
       "</table>\n",
       "</div>"
      ],
      "text/plain": [
       "                      Model Name AUC Score Precision Score Recall Score  \\\n",
       "0   Decision Tree_train SMOTE 75  0.999153          0.9985     0.999428   \n",
       "1   Decision Tree_test SMOTE 75   0.851816        0.768278     0.913105   \n",
       "2    RandomForest_train SMOTE 75  0.999189        0.998216     0.999714   \n",
       "3     RandomForest_test SMOTE 75  0.894542        0.842979     0.919332   \n",
       "4        AdaBoost_train SMOTE 75  0.709217         0.70862     0.604074   \n",
       "5         AdaBoost_test SMOTE 75  0.703026        0.703803     0.597226   \n",
       "6   GradientBoost_train SMOTE 75  0.932865         0.94198     0.907505   \n",
       "7    GradientBoost_test SMOTE 75   0.83146        0.804537      0.81319   \n",
       "8             XGB_train SMOTE 75  0.934008        0.924325     0.924589   \n",
       "9              XGB_test SMOTE 75   0.82378        0.792673     0.808378   \n",
       "10            KNN_train SMOTE 75  0.879526        0.799157     0.934596   \n",
       "11             KNN_test SMOTE 75  0.720928        0.640838     0.770167   \n",
       "12               stacking_train   0.999189        0.998216     0.999714   \n",
       "13                 stacking_test  0.894548        0.843734     0.918483   \n",
       "\n",
       "   Accuracy Score  f1-score  \n",
       "0        0.999113  0.998964  \n",
       "1        0.843483  0.834454  \n",
       "2        0.999113  0.998964  \n",
       "3        0.891171  0.879502  \n",
       "4        0.724418  0.652184  \n",
       "5        0.717413  0.646149  \n",
       "6        0.936531  0.924421  \n",
       "7        0.833945   0.80884  \n",
       "8        0.935369  0.924457  \n",
       "9        0.825874  0.800448  \n",
       "10       0.871564  0.861586  \n",
       "11       0.714233  0.699576  \n",
       "12       0.999113  0.998964  \n",
       "13       0.891294  0.879523  "
      ]
     },
     "execution_count": 118,
     "metadata": {},
     "output_type": "execute_result"
    }
   ],
   "source": [
    "sscore_card"
   ]
  },
  {
   "cell_type": "code",
   "execution_count": 119,
   "id": "2e028261",
   "metadata": {},
   "outputs": [],
   "source": [
    "bestscore_card = pd.DataFrame(columns=['Model Name', 'AUC Score', 'Precision Score', 'Recall Score',\n",
    "                                       'Accuracy Score', 'f1-score'])\n",
    "def update_bestscore_card (model, y_test,y_pred):\n",
    "    global bestscore_card\n",
    "\n",
    "    bestscore_card=bestscore_card.append({'Model Name': model,\n",
    "                                    'AUC Score' : metrics.roc_auc_score(y_test, y_pred),\n",
    "                                    'Precision Score': metrics.precision_score(y_test, y_pred),\n",
    "                                    'Recall Score': metrics.recall_score(y_test, y_pred),\n",
    "                                    'Accuracy Score': metrics.accuracy_score(y_test, y_pred),\n",
    "                                    'f1-score': metrics.f1_score(y_test, y_pred)}, \n",
    "                                    ignore_index = True)"
   ]
  },
  {
   "cell_type": "markdown",
   "id": "d65f5163",
   "metadata": {},
   "source": [
    "# Random Forest is best model"
   ]
  },
  {
   "cell_type": "code",
   "execution_count": 120,
   "id": "b98a4c3d",
   "metadata": {},
   "outputs": [
    {
     "name": "stdout",
     "output_type": "stream",
     "text": [
      "Index(['credit_limit', 'education', 'age', 'avg_balance', 'avg_payment',\n",
      "       'timeliness'],\n",
      "      dtype='object')\n"
     ]
    }
   ],
   "source": [
    "# initiate linear regression model to use in feature selection\n",
    "rf = RandomForestClassifier()\n",
    "\n",
    "# build the RFE model\n",
    "# pass the regression model to 'estimator'\n",
    "# pass number of required features to 'n_features_to_select'\n",
    "# if we do not pass the number of features, RFE considers half of the features\n",
    "rfe_model = RFE(estimator=rf, n_features_to_select =6)\n",
    "\n",
    "# fit the RFE model on the training dataset using fit()\n",
    "# we use the independent variables including intersection variable 'T_out*RH_out'\n",
    "rfe_model = rfe_model.fit(X_train, y_train)\n",
    "\n",
    "# create a series containing feature and its corresponding rank obtained from RFE\n",
    "# 'ranking_' returns the rank of each variable after applying RFE\n",
    "# pass the ranks as the 'data' of a series\n",
    "# 'index' assigns feature names as index of a series \n",
    "feat_index = pd.Series(data = rfe_model.ranking_, index = X_train.columns)\n",
    "\n",
    "# select the features with rank = 1\n",
    "# 'index' returns the indices of a series (i.e. features with rank=1) \n",
    "signi_feat_rfe = feat_index[feat_index==1].index\n",
    "\n",
    "# print the significant features obtained from RFE\n",
    "print(signi_feat_rfe)"
   ]
  },
  {
   "cell_type": "code",
   "execution_count": 121,
   "id": "9b90717e",
   "metadata": {},
   "outputs": [
    {
     "name": "stdout",
     "output_type": "stream",
     "text": [
      "X_train (32709, 7)\n",
      "X_test (8178, 7)\n",
      "y_train (32709,)\n",
      "y_test (8178,)\n",
      "====================\n",
      "X_train (32709, 6)\n",
      "X_test (8178, 6)\n",
      "y_train (32709,)\n",
      "y_test (8178,)\n"
     ]
    }
   ],
   "source": [
    "X_train7=X_train[['credit_limit', 'education', 'marital_status','age', 'avg_balance', 'avg_payment','timeliness']]#with 7 feature\n",
    "X_test7=X_test[['credit_limit','education', 'marital_status' ,'age', 'avg_balance', 'avg_payment','timeliness']]#7\n",
    "\n",
    "\n",
    "print('X_train',X_train7.shape)\n",
    "print('X_test',X_test7.shape)\n",
    "print('y_train',y_train.shape)\n",
    "print('y_test',y_test.shape)\n",
    "\n",
    "print('=='*10)\n",
    "\n",
    "X_train6=X_train[['credit_limit', 'education', 'age', 'avg_balance', 'avg_payment','timeliness']] #6\n",
    "X_test6=X_test [['credit_limit', 'education', 'age', 'avg_balance', 'avg_payment','timeliness']]\n",
    "\n",
    "print('X_train',X_train6.shape)\n",
    "print('X_test',X_test6.shape)\n",
    "print('y_train',y_train.shape)\n",
    "print('y_test',y_test.shape)"
   ]
  },
  {
   "cell_type": "code",
   "execution_count": 122,
   "id": "1ca6fe7a",
   "metadata": {},
   "outputs": [
    {
     "name": "stdout",
     "output_type": "stream",
     "text": [
      "TRAIN REPORT:\n",
      "               precision    recall  f1-score   support\n",
      "\n",
      "           0       1.00      1.00      1.00     18719\n",
      "           1       1.00      1.00      1.00     13990\n",
      "\n",
      "    accuracy                           1.00     32709\n",
      "   macro avg       1.00      1.00      1.00     32709\n",
      "weighted avg       1.00      1.00      1.00     32709\n",
      "\n",
      "TEST REPORT:\n",
      "               precision    recall  f1-score   support\n",
      "\n",
      "           0       0.93      0.87      0.90      4645\n",
      "           1       0.85      0.92      0.88      3533\n",
      "\n",
      "    accuracy                           0.89      8178\n",
      "   macro avg       0.89      0.90      0.89      8178\n",
      "weighted avg       0.90      0.89      0.89      8178\n",
      "\n",
      "KNN CLASSIFIER:\n"
     ]
    },
    {
     "data": {
      "image/png": "[encoded data removed]",
      "text/plain": [
       "<Figure size 432x288 with 2 Axes>"
      ]
     },
     "metadata": {
      "needs_background": "light"
     },
     "output_type": "display_data"
    }
   ],
   "source": [
    "rf = RandomForestClassifier(n_estimators = 250, random_state = 42)\n",
    "rf_model = rf.fit(X_train7, y_train)\n",
    "train_pred = rf_model.predict(X_train7)\n",
    "test_pred = rf_model.predict(X_test7)\n",
    "\n",
    "update_bestscore_card('RandomForest_train_with 7 feature', y_train,train_pred)\n",
    "update_bestscore_card('RandomForest_test_with 7 feature', y_test,test_pred)\n",
    "\n",
    "print(\"TRAIN REPORT:\\n\",classification_report(y_train, train_pred))  \n",
    "print(\"TEST REPORT:\\n\",classification_report(y_test, test_pred))\n",
    "\n",
    "\n",
    "\n",
    "cm= confusion_matrix(y_train,train_pred)\n",
    "print(\"KNN CLASSIFIER:\")\n",
    "matrix=pd.DataFrame(cm,index=['Actual:0','Actual:1'],columns=['Predict:0','Predict:1'])\n",
    "sns.heatmap(matrix,annot=True,fmt='d');"
   ]
  },
  {
   "cell_type": "code",
   "execution_count": 123,
   "id": "43051aaf",
   "metadata": {},
   "outputs": [
    {
     "name": "stdout",
     "output_type": "stream",
     "text": [
      "TRAIN REPORT:\n",
      "               precision    recall  f1-score   support\n",
      "\n",
      "           0       1.00      1.00      1.00     18719\n",
      "           1       1.00      1.00      1.00     13990\n",
      "\n",
      "    accuracy                           1.00     32709\n",
      "   macro avg       1.00      1.00      1.00     32709\n",
      "weighted avg       1.00      1.00      1.00     32709\n",
      "\n",
      "TEST REPORT:\n",
      "               precision    recall  f1-score   support\n",
      "\n",
      "           0       0.93      0.87      0.90      4645\n",
      "           1       0.84      0.92      0.88      3533\n",
      "\n",
      "    accuracy                           0.89      8178\n",
      "   macro avg       0.89      0.89      0.89      8178\n",
      "weighted avg       0.89      0.89      0.89      8178\n",
      "\n"
     ]
    },
    {
     "data": {
      "image/png": "[encoded data removed]",
      "text/plain": [
       "<Figure size 432x288 with 2 Axes>"
      ]
     },
     "metadata": {
      "needs_background": "light"
     },
     "output_type": "display_data"
    }
   ],
   "source": [
    "rf = RandomForestClassifier(n_estimators = 250, random_state = 42)\n",
    "rf_model = rf.fit(X_train6, y_train)\n",
    "train_pred = rf_model.predict(X_train6)\n",
    "test_pred = rf_model.predict(X_test6)\n",
    "\n",
    "update_bestscore_card('RandomForest_train_with 6 feature', y_train,train_pred)\n",
    "update_bestscore_card('RandomForest_test_with 6 feature', y_test,test_pred)\n",
    "\n",
    "print(\"TRAIN REPORT:\\n\",classification_report(y_train, train_pred))  \n",
    "print(\"TEST REPORT:\\n\",classification_report(y_test, test_pred))\n",
    "\n",
    "\n",
    "\n",
    "cm= confusion_matrix(y_train,train_pred)\n",
    "matrix=pd.DataFrame(cm,index=['Actual:0','Actual:1'],columns=['Predict:0','Predict:1'])\n",
    "sns.heatmap(matrix,annot=True,fmt='d');"
   ]
  },
  {
   "cell_type": "code",
   "execution_count": 124,
   "id": "1f736aae",
   "metadata": {},
   "outputs": [
    {
     "name": "stdout",
     "output_type": "stream",
     "text": [
      "TRAIN REPORT:\n",
      "               precision    recall  f1-score   support\n",
      "\n",
      "           0       1.00      1.00      1.00     18719\n",
      "           1       1.00      1.00      1.00     13990\n",
      "\n",
      "    accuracy                           1.00     32709\n",
      "   macro avg       1.00      1.00      1.00     32709\n",
      "weighted avg       1.00      1.00      1.00     32709\n",
      "\n",
      "TEST REPORT:\n",
      "               precision    recall  f1-score   support\n",
      "\n",
      "           0       0.93      0.87      0.90      4645\n",
      "           1       0.84      0.92      0.88      3533\n",
      "\n",
      "    accuracy                           0.89      8178\n",
      "   macro avg       0.89      0.89      0.89      8178\n",
      "weighted avg       0.89      0.89      0.89      8178\n",
      "\n"
     ]
    },
    {
     "data": {
      "image/png": "[encoded data removed]",
      "text/plain": [
       "<Figure size 432x288 with 2 Axes>"
      ]
     },
     "metadata": {
      "needs_background": "light"
     },
     "output_type": "display_data"
    }
   ],
   "source": [
    "rf = RandomForestClassifier(n_estimators = 250, random_state = 42)\n",
    "rf_model = rf.fit(X_train, y_train)\n",
    "train_pred = rf_model.predict(X_train)\n",
    "test_pred = rf_model.predict(X_test)\n",
    "\n",
    "update_bestscore_card('RandomForest_train_with all 8 feature', y_train,train_pred)\n",
    "update_bestscore_card('RandomForest_test_with all 8 feature', y_test,test_pred)\n",
    "\n",
    "print(\"TRAIN REPORT:\\n\",classification_report(y_train, train_pred))  \n",
    "print(\"TEST REPORT:\\n\",classification_report(y_test, test_pred))\n",
    "\n",
    "\n",
    "\n",
    "cm= confusion_matrix(y_train,train_pred)\n",
    "matrix=pd.DataFrame(cm,index=['Actual:0','Actual:1'],columns=['Predict:0','Predict:1'])\n",
    "sns.heatmap(matrix,annot=True,fmt='d');"
   ]
  },
  {
   "cell_type": "code",
   "execution_count": 125,
   "id": "4e0c6f56",
   "metadata": {},
   "outputs": [
    {
     "data": {
      "text/html": [
       "<div>\n",
       "<style scoped>\n",
       "    .dataframe tbody tr th:only-of-type {\n",
       "        vertical-align: middle;\n",
       "    }\n",
       "\n",
       "    .dataframe tbody tr th {\n",
       "        vertical-align: top;\n",
       "    }\n",
       "\n",
       "    .dataframe thead th {\n",
       "        text-align: right;\n",
       "    }\n",
       "</style>\n",
       "<table border=\"1\" class=\"dataframe\">\n",
       "  <thead>\n",
       "    <tr style=\"text-align: right;\">\n",
       "      <th></th>\n",
       "      <th>Model Name</th>\n",
       "      <th>AUC Score</th>\n",
       "      <th>Precision Score</th>\n",
       "      <th>Recall Score</th>\n",
       "      <th>Accuracy Score</th>\n",
       "      <th>f1-score</th>\n",
       "    </tr>\n",
       "  </thead>\n",
       "  <tbody>\n",
       "    <tr>\n",
       "      <th>0</th>\n",
       "      <td>RandomForest_train_with 7 feature</td>\n",
       "      <td>0.998619</td>\n",
       "      <td>0.997076</td>\n",
       "      <td>0.999428</td>\n",
       "      <td>0.998502</td>\n",
       "      <td>0.998251</td>\n",
       "    </tr>\n",
       "    <tr>\n",
       "      <th>1</th>\n",
       "      <td>RandomForest_test_with 7 feature</td>\n",
       "      <td>0.896944</td>\n",
       "      <td>0.847639</td>\n",
       "      <td>0.919615</td>\n",
       "      <td>0.893862</td>\n",
       "      <td>0.882161</td>\n",
       "    </tr>\n",
       "    <tr>\n",
       "      <th>2</th>\n",
       "      <td>RandomForest_train_with 6 feature</td>\n",
       "      <td>0.998146</td>\n",
       "      <td>0.996293</td>\n",
       "      <td>0.999071</td>\n",
       "      <td>0.998013</td>\n",
       "      <td>0.99768</td>\n",
       "    </tr>\n",
       "    <tr>\n",
       "      <th>3</th>\n",
       "      <td>RandomForest_test_with 6 feature</td>\n",
       "      <td>0.892838</td>\n",
       "      <td>0.841736</td>\n",
       "      <td>0.916785</td>\n",
       "      <td>0.889582</td>\n",
       "      <td>0.877659</td>\n",
       "    </tr>\n",
       "    <tr>\n",
       "      <th>4</th>\n",
       "      <td>RandomForest_train_with all 8 feature</td>\n",
       "      <td>0.999189</td>\n",
       "      <td>0.998216</td>\n",
       "      <td>0.999714</td>\n",
       "      <td>0.999113</td>\n",
       "      <td>0.998964</td>\n",
       "    </tr>\n",
       "    <tr>\n",
       "      <th>5</th>\n",
       "      <td>RandomForest_test_with all 8 feature</td>\n",
       "      <td>0.894542</td>\n",
       "      <td>0.842979</td>\n",
       "      <td>0.919332</td>\n",
       "      <td>0.891171</td>\n",
       "      <td>0.879502</td>\n",
       "    </tr>\n",
       "  </tbody>\n",
       "</table>\n",
       "</div>"
      ],
      "text/plain": [
       "                              Model Name AUC Score Precision Score  \\\n",
       "0      RandomForest_train_with 7 feature  0.998619        0.997076   \n",
       "1       RandomForest_test_with 7 feature  0.896944        0.847639   \n",
       "2      RandomForest_train_with 6 feature  0.998146        0.996293   \n",
       "3       RandomForest_test_with 6 feature  0.892838        0.841736   \n",
       "4  RandomForest_train_with all 8 feature  0.999189        0.998216   \n",
       "5   RandomForest_test_with all 8 feature  0.894542        0.842979   \n",
       "\n",
       "  Recall Score Accuracy Score  f1-score  \n",
       "0     0.999428       0.998502  0.998251  \n",
       "1     0.919615       0.893862  0.882161  \n",
       "2     0.999071       0.998013   0.99768  \n",
       "3     0.916785       0.889582  0.877659  \n",
       "4     0.999714       0.999113  0.998964  \n",
       "5     0.919332       0.891171  0.879502  "
      ]
     },
     "execution_count": 125,
     "metadata": {},
     "output_type": "execute_result"
    }
   ],
   "source": [
    "bestscore_card"
   ]
  },
  {
   "cell_type": "markdown",
   "id": "d2c11809",
   "metadata": {},
   "source": [
    "# By looking the RFE all the 7 features are important "
   ]
  },
  {
   "cell_type": "markdown",
   "id": "3132935a",
   "metadata": {},
   "source": [
    "### 'credit_limit', 'education', 'marital_status','age', 'avg_balance', 'avg_payment','timeliness'"
   ]
  },
  {
   "cell_type": "code",
   "execution_count": 128,
   "id": "056137d5",
   "metadata": {},
   "outputs": [
    {
     "data": {
      "image/png": "[encoded data removed]",
      "text/plain": [
       "<Figure size 432x288 with 1 Axes>"
      ]
     },
     "metadata": {
      "needs_background": "light"
     },
     "output_type": "display_data"
    },
    {
     "name": "stdout",
     "output_type": "stream",
     "text": [
      "CPU times: total: 125 ms\n",
      "Wall time: 259 ms\n"
     ]
    }
   ],
   "source": [
    "%%time\n",
    "# create a dataframe that stores the feature names and their importance\n",
    "# 'feature_importances_' returns the features based on the average gain \n",
    "important_features = pd.DataFrame({'Features': X_train.columns, \n",
    "                                   'Importance': rf_model.feature_importances_})\n",
    "\n",
    "# sort the dataframe in the descending order according to the feature importance\n",
    "important_features = important_features.sort_values('Importance', ascending = False)\n",
    "\n",
    "# create a barplot to visualize the features based on their importance\n",
    "sns.barplot(x = 'Importance', y = 'Features', data = important_features)\n",
    "\n",
    "# add plot and axes labels\n",
    "# set text size using 'fontsize'\n",
    "plt.title('Feature Importance', fontsize = 15)\n",
    "plt.xlabel('Importance', fontsize = 15)\n",
    "plt.ylabel('Features', fontsize = 15)\n",
    "\n",
    "# display the plot\n",
    "plt.show()"
   ]
  },
  {
   "cell_type": "markdown",
   "id": "19d2d892",
   "metadata": {},
   "source": [
    "# with 7 features"
   ]
  },
  {
   "cell_type": "code",
   "execution_count": 148,
   "id": "84a2b538",
   "metadata": {},
   "outputs": [],
   "source": [
    "X_train7=X_train[['credit_limit', 'education', 'marital_status','age', 'avg_balance', 'avg_payment','timeliness']]#with 7 feature\n",
    "X_test7=X_test[['credit_limit','education', 'marital_status' ,'age', 'avg_balance', 'avg_payment','timeliness']]#7"
   ]
  },
  {
   "cell_type": "code",
   "execution_count": 149,
   "id": "289c2fee",
   "metadata": {},
   "outputs": [
    {
     "name": "stdout",
     "output_type": "stream",
     "text": [
      "TRAIN REPORT:\n",
      "               precision    recall  f1-score   support\n",
      "\n",
      "           0       1.00      1.00      1.00     18719\n",
      "           1       1.00      1.00      1.00     13990\n",
      "\n",
      "    accuracy                           1.00     32709\n",
      "   macro avg       1.00      1.00      1.00     32709\n",
      "weighted avg       1.00      1.00      1.00     32709\n",
      "\n",
      "TEST REPORT:\n",
      "               precision    recall  f1-score   support\n",
      "\n",
      "           0       0.93      0.87      0.90      4645\n",
      "           1       0.85      0.92      0.88      3533\n",
      "\n",
      "    accuracy                           0.89      8178\n",
      "   macro avg       0.89      0.90      0.89      8178\n",
      "weighted avg       0.90      0.89      0.89      8178\n",
      "\n",
      "KNN CLASSIFIER:\n"
     ]
    },
    {
     "data": {
      "image/png": "[encoded data removed]",
      "text/plain": [
       "<Figure size 432x288 with 2 Axes>"
      ]
     },
     "metadata": {
      "needs_background": "light"
     },
     "output_type": "display_data"
    }
   ],
   "source": [
    "rf = RandomForestClassifier(n_estimators = 250, random_state = 42)\n",
    "rf_model = rf.fit(X_train7, y_train)\n",
    "train_pred = rf_model.predict(X_train7)\n",
    "test_pred = rf_model.predict(X_test7)\n",
    "\n",
    "update_bestscore_card('RandomForest_train_with 7 feature', y_train,train_pred)\n",
    "update_bestscore_card('RandomForest_test_with 7 feature', y_test,test_pred)\n",
    "\n",
    "print(\"TRAIN REPORT:\\n\",classification_report(y_train, train_pred))  \n",
    "print(\"TEST REPORT:\\n\",classification_report(y_test, test_pred))\n",
    "\n",
    "\n",
    "\n",
    "cm= confusion_matrix(y_train,train_pred)\n",
    "print(\"RandomForest CLASSIFIER:\")\n",
    "matrix=pd.DataFrame(cm,index=['Actual:0','Actual:1'],columns=['Predict:0','Predict:1'])\n",
    "sns.heatmap(matrix,annot=True,fmt='d');"
   ]
  },
  {
   "cell_type": "code",
   "execution_count": 154,
   "id": "e8ae63dd",
   "metadata": {},
   "outputs": [
    {
     "data": {
      "text/plain": [
       "{'criterion': 'gini', 'max_depth': 10, 'n_estimators': 220}"
      ]
     },
     "execution_count": 154,
     "metadata": {},
     "output_type": "execute_result"
    }
   ],
   "source": [
    "rfc=RandomForestClassifier(random_state=42)\n",
    "param_grid = { \n",
    "    'n_estimators': [220,250],\n",
    "    'max_depth' : [8,10],\n",
    "    'criterion' :['gini', 'entropy']\n",
    "}\n",
    "CV_rfc = GridSearchCV(estimator=rfc, param_grid=param_grid, cv= 3,scoring  = \"recall\")\n",
    "CV_rfc.fit(X_train7, y_train)\n",
    "CV_rfc.best_params_"
   ]
  },
  {
   "cell_type": "code",
   "execution_count": 156,
   "id": "264fa8f7",
   "metadata": {},
   "outputs": [
    {
     "name": "stdout",
     "output_type": "stream",
     "text": [
      "TRAIN REPORT:\n",
      "               precision    recall  f1-score   support\n",
      "\n",
      "           0       1.00      1.00      1.00     18719\n",
      "           1       1.00      1.00      1.00     13990\n",
      "\n",
      "    accuracy                           1.00     32709\n",
      "   macro avg       1.00      1.00      1.00     32709\n",
      "weighted avg       1.00      1.00      1.00     32709\n",
      "\n",
      "TEST REPORT:\n",
      "               precision    recall  f1-score   support\n",
      "\n",
      "           0       0.93      0.87      0.90      4645\n",
      "           1       0.85      0.92      0.88      3533\n",
      "\n",
      "    accuracy                           0.89      8178\n",
      "   macro avg       0.89      0.90      0.89      8178\n",
      "weighted avg       0.90      0.89      0.89      8178\n",
      "\n",
      "RandomForest CLASSIFIER:\n"
     ]
    },
    {
     "data": {
      "image/png": "[encoded data removed]",
      "text/plain": [
       "<Figure size 432x288 with 2 Axes>"
      ]
     },
     "metadata": {
      "needs_background": "light"
     },
     "output_type": "display_data"
    }
   ],
   "source": [
    "rf = RandomForestClassifier(n_estimators = 220, random_state = 42)\n",
    "rf_model = rf.fit(X_train7, y_train)\n",
    "train_pred = rf_model.predict(X_train7)\n",
    "test_pred = rf_model.predict(X_test7)\n",
    "\n",
    "update_bestscore_card('RandomForest_train_with 7 feature', y_train,train_pred)\n",
    "update_bestscore_card('RandomForest_test_with 7 feature', y_test,test_pred)\n",
    "\n",
    "print(\"TRAIN REPORT:\\n\",classification_report(y_train, train_pred))  \n",
    "print(\"TEST REPORT:\\n\",classification_report(y_test, test_pred))\n",
    "\n",
    "\n",
    "\n",
    "cm= confusion_matrix(y_train,train_pred)\n",
    "print(\"RandomForest CLASSIFIER:\")\n",
    "matrix=pd.DataFrame(cm,index=['Actual:0','Actual:1'],columns=['Predict:0','Predict:1'])\n",
    "sns.heatmap(matrix,annot=True,fmt='d');"
   ]
  },
  {
   "cell_type": "code",
   "execution_count": null,
   "id": "0d2bc56b",
   "metadata": {},
   "outputs": [],
   "source": []
  }
 ],
 "metadata": {
  "kernelspec": {
   "display_name": "Python 3 (ipykernel)",
   "language": "python",
   "name": "python3"
  },
  "language_info": {
   "codemirror_mode": {
    "name": "ipython",
    "version": 3
   },
   "file_extension": ".py",
   "mimetype": "text/x-python",
   "name": "python",
   "nbconvert_exporter": "python",
   "pygments_lexer": "ipython3",
   "version": "3.9.12"
  }
 },
 "nbformat": 4,
 "nbformat_minor": 5
}
